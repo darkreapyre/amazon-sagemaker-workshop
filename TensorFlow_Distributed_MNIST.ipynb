{
 "cells": [
  {
   "cell_type": "markdown",
   "metadata": {},
   "source": [
    "# MNIST distributed training with TensorFlow  \n",
    "\n",
    "## Contents\n",
    "\n",
    "1. [Background](#Background)\n",
    "1. [Setup](#Setup)\n",
    "1. [Data](#Data)\n",
    "1. [Train](#Train)\n",
    "1. [Host](#Host)\n",
    "1. [Predict](#Predict)\n",
    "\n",
    "\n",
    "## Background\n",
    "\n",
    "The **SageMaker Python SDK** helps you deploy your models for training and hosting in optimized, productions ready containers in SageMaker. The SageMaker Python SDK is easy to use, modular, extensible and compatible with TensorFlow and MXNet. This tutorial focuses on how to create a convolutional neural network model to train the [MNIST dataset](http://yann.lecun.com/exdb/mnist/) using **TensorFlow distributed training**.\n",
    "\n"
   ]
  },
  {
   "cell_type": "markdown",
   "metadata": {},
   "source": [
    "\n",
    "## Setup\n",
    "\n",
    "Here we will start by importing the necessary libraries for this notebook."
   ]
  },
  {
   "cell_type": "code",
   "execution_count": 1,
   "metadata": {},
   "outputs": [],
   "source": [
    "import os\n",
    "os.system(\"aws s3 cp s3://sagemaker-workshop-pdx/mnist/utils.py utils.py\")\n",
    "os.system(\"aws s3 cp s3://sagemaker-workshop-pdx/mnist/mnist.py mnist.py\")\n",
    "import sagemaker\n",
    "import utils\n",
    "import numpy as np\n",
    "import matplotlib.pyplot as plt\n",
    "from tensorflow.contrib.learn.python.learn.datasets import mnist\n",
    "import tensorflow as tf\n",
    "import boto3\n",
    "import warnings; warnings.simplefilter('ignore')"
   ]
  },
  {
   "cell_type": "markdown",
   "metadata": {},
   "source": [
    "Next we specify the IAM role arn used to give training and hosting access to your data. See the documentation for how to create these.  Note, if more than one role is required for notebook instances, training, and/or hosting, please replace the `get_execution_role()` call with the appropriate full IAM role arn string(s)."
   ]
  },
  {
   "cell_type": "code",
   "execution_count": 2,
   "metadata": {},
   "outputs": [],
   "source": [
    "role = sagemaker.get_execution_role()\n",
    "sagemaker_session = sagemaker.Session()"
   ]
  },
  {
   "cell_type": "markdown",
   "metadata": {},
   "source": [
    "\n",
    "## Data\n",
    "\n",
    "\n",
    "### Download the MNIST dataset\n",
    "\n",
    "First we will download the data from the workshop's S3 bucket, then we will extract the images from the compressed files."
   ]
  },
  {
   "cell_type": "code",
   "execution_count": 3,
   "metadata": {
    "scrolled": false
   },
   "outputs": [
    {
     "name": "stderr",
     "output_type": "stream",
     "text": [
      "WARNING:tensorflow:From <ipython-input-3-1ac6f53209a9>:3: read_data_sets (from tensorflow.contrib.learn.python.learn.datasets.mnist) is deprecated and will be removed in a future version.\n",
      "Instructions for updating:\n",
      "Please use alternatives such as official/mnist/dataset.py from tensorflow/models.\n",
      "WARNING:tensorflow:From /home/ec2-user/anaconda3/envs/tensorflow_p36/lib/python3.6/site-packages/tensorflow/contrib/learn/python/learn/datasets/mnist.py:260: maybe_download (from tensorflow.contrib.learn.python.learn.datasets.base) is deprecated and will be removed in a future version.\n",
      "Instructions for updating:\n",
      "Please write your own downloading logic.\n",
      "WARNING:tensorflow:From /home/ec2-user/anaconda3/envs/tensorflow_p36/lib/python3.6/site-packages/tensorflow/contrib/learn/python/learn/datasets/base.py:252: _internal_retry.<locals>.wrap.<locals>.wrapped_fn (from tensorflow.contrib.learn.python.learn.datasets.base) is deprecated and will be removed in a future version.\n",
      "Instructions for updating:\n",
      "Please use urllib or similar directly.\n",
      "WARNING:tensorflow:From /home/ec2-user/anaconda3/envs/tensorflow_p36/lib/python3.6/site-packages/tensorflow/contrib/learn/python/learn/datasets/mnist.py:262: extract_images (from tensorflow.contrib.learn.python.learn.datasets.mnist) is deprecated and will be removed in a future version.\n",
      "Instructions for updating:\n",
      "Please use tf.data to implement this functionality.\n"
     ]
    },
    {
     "name": "stdout",
     "output_type": "stream",
     "text": [
      "Successfully downloaded train-images-idx3-ubyte.gz 9912422 bytes.\n",
      "Extracting mnist/data/train-images-idx3-ubyte.gz\n"
     ]
    },
    {
     "name": "stderr",
     "output_type": "stream",
     "text": [
      "WARNING:tensorflow:From /home/ec2-user/anaconda3/envs/tensorflow_p36/lib/python3.6/site-packages/tensorflow/contrib/learn/python/learn/datasets/mnist.py:267: extract_labels (from tensorflow.contrib.learn.python.learn.datasets.mnist) is deprecated and will be removed in a future version.\n",
      "Instructions for updating:\n",
      "Please use tf.data to implement this functionality.\n"
     ]
    },
    {
     "name": "stdout",
     "output_type": "stream",
     "text": [
      "Successfully downloaded train-labels-idx1-ubyte.gz 28881 bytes.\n",
      "Extracting mnist/data/train-labels-idx1-ubyte.gz\n"
     ]
    },
    {
     "name": "stderr",
     "output_type": "stream",
     "text": [
      "WARNING:tensorflow:From /home/ec2-user/anaconda3/envs/tensorflow_p36/lib/python3.6/site-packages/tensorflow/contrib/learn/python/learn/datasets/mnist.py:290: DataSet.__init__ (from tensorflow.contrib.learn.python.learn.datasets.mnist) is deprecated and will be removed in a future version.\n",
      "Instructions for updating:\n",
      "Please use alternatives such as official/mnist/dataset.py from tensorflow/models.\n"
     ]
    },
    {
     "name": "stdout",
     "output_type": "stream",
     "text": [
      "Successfully downloaded t10k-images-idx3-ubyte.gz 1648877 bytes.\n",
      "Extracting mnist/data/t10k-images-idx3-ubyte.gz\n",
      "Successfully downloaded t10k-labels-idx1-ubyte.gz 4542 bytes.\n",
      "Extracting mnist/data/t10k-labels-idx1-ubyte.gz\n",
      "Writing mnist/data/train.tfrecords\n",
      "Writing mnist/data/validation.tfrecords\n",
      "Writing mnist/data/test.tfrecords\n"
     ]
    }
   ],
   "source": [
    "os.system(\"aws s3 cp --recursive s3://sagemaker-workshop-pdx/mnist/data data\")\n",
    "\n",
    "data_sets = mnist.read_data_sets('mnist/data', dtype=tf.uint8, reshape=False, validation_size=5000)\n",
    "\n",
    "utils.convert_to(data_sets.train, 'train', 'mnist/data')\n",
    "utils.convert_to(data_sets.validation, 'validation', 'mnist/data')\n",
    "utils.convert_to(data_sets.test, 'test', 'mnist/data')"
   ]
  },
  {
   "cell_type": "markdown",
   "metadata": {},
   "source": [
    "### Some sample images from the MNIST data set\n",
    "\n",
    "Here are some images from the MNIST traing data set, feel free to change the batch number and re-run this cell to see some other images from the collection, or, change the data set it pulls from to the test data set to see images from that collection."
   ]
  },
  {
   "cell_type": "code",
   "execution_count": 4,
   "metadata": {},
   "outputs": [
    {
     "name": "stdout",
     "output_type": "stream",
     "text": [
      "\"\"\"Converts MNIST data to TFRecords file format with Example protos.\"\"\"\r\n",
      "import os\r\n",
      "import tensorflow as tf\r\n",
      "import numpy as np\r\n",
      "import matplotlib.pyplot as plt\r\n",
      "\r\n",
      "\r\n",
      "def _int64_feature(value):\r\n",
      "    return tf.train.Feature(int64_list=tf.train.Int64List(value=[value]))\r\n",
      "\r\n",
      "\r\n",
      "def _bytes_feature(value):\r\n",
      "    return tf.train.Feature(bytes_list=tf.train.BytesList(value=[value]))\r\n",
      "\r\n",
      "\r\n",
      "def convert_to(data_set, name, directory):\r\n",
      "    \"\"\"Converts a dataset to tfrecords.\"\"\"\r\n",
      "    images = data_set.images\r\n",
      "    labels = data_set.labels\r\n",
      "    num_examples = data_set.num_examples\r\n",
      "\r\n",
      "    if images.shape[0] != num_examples:\r\n",
      "        raise ValueError('Images size %d does not match label size %d.' %\r\n",
      "                         (images.shape[0], num_examples))\r\n",
      "    rows = images.shape[1]\r\n",
      "    cols = images.shape[2]\r\n",
      "    depth = images.shape[3]\r\n",
      "\r\n",
      "    filename = os.path.join(directory, name + '.tfrecords')\r\n",
      "    print('Writing', filename)\r\n",
      "    writer = tf.python_io.TFRecordWriter(filename)\r\n",
      "    for index in range(num_examples):\r\n",
      "        image_raw = images[index].tostring()\r\n",
      "        example = tf.train.Example(features=tf.train.Features(feature={\r\n",
      "            'height': _int64_feature(rows),\r\n",
      "            'width': _int64_feature(cols),\r\n",
      "            'depth': _int64_feature(depth),\r\n",
      "            'label': _int64_feature(int(labels[index])),\r\n",
      "            'image_raw': _bytes_feature(image_raw)}))\r\n",
      "        writer.write(example.SerializeToString())\r\n",
      "    writer.close()\r\n",
      "\r\n",
      "def gen_image(arr):\r\n",
      "    two_d = (np.reshape(arr, (28, 28)) * 255).astype(np.uint8)\r\n",
      "    plt.imshow(two_d, interpolation='nearest')\r\n",
      "    return plt\r\n"
     ]
    }
   ],
   "source": [
    "!cat utils.py"
   ]
  },
  {
   "cell_type": "code",
   "execution_count": 5,
   "metadata": {},
   "outputs": [
    {
     "data": {
      "image/png": "[encoded data removed]",
      "text/plain": [
       "<Figure size 432x288 with 1 Axes>"
      ]
     },
     "metadata": {},
     "output_type": "display_data"
    },
    {
     "data": {
      "image/png": "[encoded data removed]",
      "text/plain": [
       "<Figure size 432x288 with 1 Axes>"
      ]
     },
     "metadata": {},
     "output_type": "display_data"
    },
    {
     "data": {
      "image/png": "[encoded data removed]",
      "text/plain": [
       "<Figure size 432x288 with 1 Axes>"
      ]
     },
     "metadata": {},
     "output_type": "display_data"
    }
   ],
   "source": [
    "batch_xs, batch_ys = data_sets.train.next_batch(5) # Change \"train\" to \"test\" or select a different batch.\n",
    "utils.gen_image(batch_xs[0]).show()\n",
    "utils.gen_image(batch_xs[1]).show()\n",
    "utils.gen_image(batch_xs[2]).show()"
   ]
  },
  {
   "cell_type": "markdown",
   "metadata": {},
   "source": [
    "### Upload the data\n",
    "We use the ```sagemaker.Session.upload_data``` function to upload our datasets to an S3 bucket. The return value of inputs identifies the location -- we will use this later when we start the training job."
   ]
  },
  {
   "cell_type": "code",
   "execution_count": 6,
   "metadata": {},
   "outputs": [],
   "source": [
    "inputs = sagemaker_session.upload_data(path='mnist/data', key_prefix='data/mnist')"
   ]
  },
  {
   "cell_type": "markdown",
   "metadata": {},
   "source": [
    "\n",
    "## Train\n",
    "\n",
    "Here is the full code for the network model:"
   ]
  },
  {
   "cell_type": "code",
   "execution_count": 7,
   "metadata": {
    "scrolled": false
   },
   "outputs": [
    {
     "name": "stdout",
     "output_type": "stream",
     "text": [
      "import os\r\n",
      "import tensorflow as tf\r\n",
      "from tensorflow.python.estimator.model_fn import ModeKeys as Modes\r\n",
      "\r\n",
      "INPUT_TENSOR_NAME = 'inputs'\r\n",
      "SIGNATURE_NAME = 'predictions'\r\n",
      "\r\n",
      "LEARNING_RATE = 0.001\r\n",
      "\r\n",
      "\r\n",
      "def model_fn(features, labels, mode, params):\r\n",
      "    # Input Layer\r\n",
      "    input_layer = tf.reshape(features[INPUT_TENSOR_NAME], [-1, 28, 28, 1])\r\n",
      "\r\n",
      "    # Convolutional Layer #1\r\n",
      "    conv1 = tf.layers.conv2d(\r\n",
      "        inputs=input_layer,\r\n",
      "        filters=32,\r\n",
      "        kernel_size=[5, 5],\r\n",
      "        padding='same',\r\n",
      "        activation=tf.nn.relu)\r\n",
      "\r\n",
      "    # Pooling Layer #1\r\n",
      "    pool1 = tf.layers.max_pooling2d(inputs=conv1, pool_size=[2, 2], strides=2)\r\n",
      "\r\n",
      "    # Convolutional Layer #2 and Pooling Layer #2\r\n",
      "    conv2 = tf.layers.conv2d(\r\n",
      "        inputs=pool1,\r\n",
      "        filters=64,\r\n",
      "        kernel_size=[5, 5],\r\n",
      "        padding='same',\r\n",
      "        activation=tf.nn.relu)\r\n",
      "    pool2 = tf.layers.max_pooling2d(inputs=conv2, pool_size=[2, 2], strides=2)\r\n",
      "\r\n",
      "    # Dense Layer\r\n",
      "    pool2_flat = tf.reshape(pool2, [-1, 7 * 7 * 64])\r\n",
      "    dense = tf.layers.dense(inputs=pool2_flat, units=1024, activation=tf.nn.relu)\r\n",
      "    dropout = tf.layers.dropout(\r\n",
      "        inputs=dense, rate=0.4, training=(mode == Modes.TRAIN))\r\n",
      "\r\n",
      "    # Logits Layer\r\n",
      "    logits = tf.layers.dense(inputs=dropout, units=10)\r\n",
      "\r\n",
      "    # Define operations\r\n",
      "    if mode in (Modes.PREDICT, Modes.EVAL):\r\n",
      "        predicted_indices = tf.argmax(input=logits, axis=1)\r\n",
      "        probabilities = tf.nn.softmax(logits, name='softmax_tensor')\r\n",
      "\r\n",
      "    if mode in (Modes.TRAIN, Modes.EVAL):\r\n",
      "        global_step = tf.train.get_or_create_global_step()\r\n",
      "        label_indices = tf.cast(labels, tf.int32)\r\n",
      "        loss = tf.losses.softmax_cross_entropy(\r\n",
      "            onehot_labels=tf.one_hot(label_indices, depth=10), logits=logits)\r\n",
      "        tf.summary.scalar('OptimizeLoss', loss)\r\n",
      "\r\n",
      "    if mode == Modes.PREDICT:\r\n",
      "        predictions = {\r\n",
      "            'classes': predicted_indices,\r\n",
      "            'probabilities': probabilities\r\n",
      "        }\r\n",
      "        export_outputs = {\r\n",
      "            SIGNATURE_NAME: tf.estimator.export.PredictOutput(predictions)\r\n",
      "        }\r\n",
      "        return tf.estimator.EstimatorSpec(\r\n",
      "            mode, predictions=predictions, export_outputs=export_outputs)\r\n",
      "\r\n",
      "    if mode == Modes.TRAIN:\r\n",
      "        optimizer = tf.train.AdamOptimizer(learning_rate=0.001)\r\n",
      "        train_op = optimizer.minimize(loss, global_step=global_step)\r\n",
      "        return tf.estimator.EstimatorSpec(mode, loss=loss, train_op=train_op)\r\n",
      "\r\n",
      "    if mode == Modes.EVAL:\r\n",
      "        eval_metric_ops = {\r\n",
      "            'accuracy': tf.metrics.accuracy(label_indices, predicted_indices)\r\n",
      "        }\r\n",
      "        return tf.estimator.EstimatorSpec(\r\n",
      "            mode, loss=loss, eval_metric_ops=eval_metric_ops)\r\n",
      "\r\n",
      "\r\n",
      "def serving_input_fn(params):\r\n",
      "    inputs = {INPUT_TENSOR_NAME: tf.placeholder(tf.float32, [None, 784])}\r\n",
      "    return tf.estimator.export.ServingInputReceiver(inputs, inputs)\r\n",
      "\r\n",
      "\r\n",
      "def read_and_decode(filename_queue):\r\n",
      "    reader = tf.TFRecordReader()\r\n",
      "    _, serialized_example = reader.read(filename_queue)\r\n",
      "\r\n",
      "    features = tf.parse_single_example(\r\n",
      "        serialized_example,\r\n",
      "        features={\r\n",
      "            'image_raw': tf.FixedLenFeature([], tf.string),\r\n",
      "            'label': tf.FixedLenFeature([], tf.int64),\r\n",
      "        })\r\n",
      "\r\n",
      "    image = tf.decode_raw(features['image_raw'], tf.uint8)\r\n",
      "    image.set_shape([784])\r\n",
      "    image = tf.cast(image, tf.float32) * (1. / 255)\r\n",
      "    label = tf.cast(features['label'], tf.int32)\r\n",
      "\r\n",
      "    return image, label\r\n",
      "\r\n",
      "\r\n",
      "def train_input_fn(training_dir, params):\r\n",
      "    return _input_fn(training_dir, 'train.tfrecords', batch_size=100)\r\n",
      "\r\n",
      "\r\n",
      "def eval_input_fn(training_dir, params):\r\n",
      "    return _input_fn(training_dir, 'test.tfrecords', batch_size=100)\r\n",
      "\r\n",
      "\r\n",
      "def _input_fn(training_dir, training_filename, batch_size=100):\r\n",
      "    test_file = os.path.join(training_dir, training_filename)\r\n",
      "    filename_queue = tf.train.string_input_producer([test_file])\r\n",
      "\r\n",
      "    image, label = read_and_decode(filename_queue)\r\n",
      "    images, labels = tf.train.batch(\r\n",
      "        [image, label], batch_size=batch_size,\r\n",
      "        capacity=1000 + 3 * batch_size)\r\n",
      "\r\n",
      "    return {INPUT_TENSOR_NAME: images}, labels\r\n"
     ]
    }
   ],
   "source": [
    "!cat 'mnist.py'"
   ]
  },
  {
   "cell_type": "markdown",
   "metadata": {},
   "source": [
    "The script here is an adaptation of the [TensorFlow MNIST example](https://github.com/tensorflow/models/tree/master/official/mnist). We have defined ```model_fn(features, labels, mode)```, which includes all the logic to support training, evaluation and inference. \n",
    "\n",
    "### A regular ```model_fn```\n",
    "\n",
    "A regular **```model_fn```** follows the pattern:\n",
    "1. [defines a neural network](https://github.com/tensorflow/models/blob/master/official/mnist/mnist.py#L96)\n",
    "- [applies the ```features``` in the neural network](https://github.com/tensorflow/models/blob/master/official/mnist/mnist.py#L178)\n",
    "- [if the ```mode``` is ```PREDICT```, returns the output from the neural network](https://github.com/tensorflow/models/blob/master/official/mnist/mnist.py#L186)\n",
    "- [calculates the loss function comparing the output with the ```labels```](https://github.com/tensorflow/models/blob/master/official/mnist/mnist.py#L188)\n",
    "- [creates an optimizer and minimizes the loss function to improve the neural network](https://github.com/tensorflow/models/blob/master/official/mnist/mnist.py#L193)\n",
    "- [returns the output, optimizer and loss function](https://github.com/tensorflow/models/blob/master/official/mnist/mnist.py#L205)\n",
    "\n",
    "### Writing a ```model_fn``` for distributed training\n",
    "When distributed training happens, the same neural network will be sent to multiple training instances. Each instance will train with a batch of the dataset, calculate loss and minimize the optimizer. One entire loop of this process is called a **training step**.\n",
    "\n",
    "### Syncronizing training steps\n",
    "A [global step](https://www.tensorflow.org/api_docs/python/tf/train/global_step) is a global counter shared between the instances. This counter is used by the optimizer to keep track of the number of **training steps** across instances and is necessary for distributed training: \n",
    "\n",
    "```python\n",
    "train_op = optimizer.minimize(loss, tf.train.get_or_create_global_step())\n",
    "```\n",
    "\n",
    "That is also the **only** required change for distributed training!"
   ]
  },
  {
   "cell_type": "markdown",
   "metadata": {},
   "source": [
    "### Create a training job using the sagemaker.TensorFlow estimator"
   ]
  },
  {
   "cell_type": "code",
   "execution_count": 8,
   "metadata": {
    "scrolled": false
   },
   "outputs": [
    {
     "name": "stderr",
     "output_type": "stream",
     "text": [
      "INFO:sagemaker:Creating training-job with name: sagemaker-tensorflow-2018-08-06-19-28-38-601\n"
     ]
    },
    {
     "name": "stdout",
     "output_type": "stream",
     "text": [
      ".................\n",
      "\u001b[31m2018-08-06 19:31:11,398 INFO - root - running container entrypoint\u001b[0m\n",
      "\u001b[31m2018-08-06 19:31:11,398 INFO - root - starting train task\u001b[0m\n",
      "\u001b[31m2018-08-06 19:31:11,404 INFO - container_support.training - Training starting\u001b[0m\n",
      "\u001b[31m2018-08-06 19:31:13,839 INFO - botocore.vendored.requests.packages.urllib3.connectionpool - Starting new HTTP connection (1): 169.254.170.2\u001b[0m\n",
      "\u001b[31m2018-08-06 19:31:14,091 INFO - botocore.vendored.requests.packages.urllib3.connectionpool - Starting new HTTPS connection (1): sagemaker-us-west-2-500842391574.s3.amazonaws.com\u001b[0m\n",
      "\u001b[31m2018-08-06 19:31:14,121 INFO - botocore.vendored.requests.packages.urllib3.connectionpool - Starting new HTTPS connection (2): sagemaker-us-west-2-500842391574.s3.amazonaws.com\u001b[0m\n",
      "\u001b[31m2018-08-06 19:31:14,133 INFO - botocore.vendored.requests.packages.urllib3.connectionpool - Starting new HTTPS connection (1): sagemaker-us-west-2-500842391574.s3.us-west-2.amazonaws.com\u001b[0m\n",
      "\u001b[31m2018-08-06 19:31:14,198 INFO - botocore.vendored.requests.packages.urllib3.connectionpool - Starting new HTTPS connection (2): sagemaker-us-west-2-500842391574.s3.us-west-2.amazonaws.com\u001b[0m\n",
      "\u001b[31m2018-08-06 19:31:14,319 INFO - botocore.vendored.requests.packages.urllib3.connectionpool - Starting new HTTPS connection (1): s3.us-west-2.amazonaws.com\u001b[0m\n",
      "\u001b[31m2018-08-06 19:31:15,327 INFO - tf_container - ----------------------TF_CONFIG--------------------------\u001b[0m\n",
      "\u001b[31m2018-08-06 19:31:15,328 INFO - tf_container - {\"environment\": \"cloud\", \"cluster\": {\"worker\": [\"algo-2:2222\"], \"ps\": [\"algo-1:2223\", \"algo-2:2223\"], \"master\": [\"algo-1:2222\"]}, \"task\": {\"index\": 0, \"type\": \"master\"}}\u001b[0m\n",
      "\u001b[31m2018-08-06 19:31:15,328 INFO - tf_container - ---------------------------------------------------------\u001b[0m\n",
      "\u001b[31m2018-08-06 19:31:15,328 INFO - tf_container - creating RunConfig:\u001b[0m\n",
      "\u001b[31m2018-08-06 19:31:15,328 INFO - tf_container - {'save_checkpoints_secs': 300}\u001b[0m\n",
      "\u001b[31m2018-08-06 19:31:15,328 INFO - tensorflow - TF_CONFIG environment variable: {u'environment': u'cloud', u'cluster': {u'ps': [u'algo-1:2223', u'algo-2:2223'], u'worker': [u'algo-2:2222'], u'master': [u'algo-1:2222']}, u'task': {u'index': 0, u'type': u'master'}}\u001b[0m\n",
      "\u001b[31m2018-08-06 19:31:15,328 INFO - tf_container - creating an estimator from the user-provided model_fn\u001b[0m\n",
      "\u001b[31m2018-08-06 19:31:15,328 INFO - tensorflow - Using config: {'_save_checkpoints_secs': 300, '_session_config': None, '_keep_checkpoint_max': 5, '_tf_random_seed': None, '_task_type': u'master', '_train_distribute': None, '_is_chief': True, '_cluster_spec': <tensorflow.python.training.server_lib.ClusterSpec object at 0x7fb35edff890>, '_model_dir': u's3://sagemaker-us-west-2-500842391574/sagemaker-tensorflow-2018-08-06-19-28-38-601/checkpoints', '_num_worker_replicas': 2, '_task_id': 0, '_log_step_count_steps': 100, '_master': u'grpc://algo-1:2222', '_save_checkpoints_steps': None, '_keep_checkpoint_every_n_hours': 10000, '_evaluation_master': '', '_service': None, '_global_id_in_cluster': 0, '_save_summary_steps': 100, '_num_ps_replicas': 2}\u001b[0m\n",
      "\u001b[31m2018-08-06 19:31:15,330 INFO - tensorflow - Start Tensorflow server.\u001b[0m\n",
      "\u001b[31m2018-08-06 19:31:15.344925: I tensorflow/core/distributed_runtime/rpc/grpc_channel.cc:215] Initialize GrpcChannelCache for job master -> {0 -> algo-1:2222}\u001b[0m\n",
      "\u001b[31m2018-08-06 19:31:15.344937: I tensorflow/core/distributed_runtime/rpc/grpc_channel.cc:215] Initialize GrpcChannelCache for job master -> {0 -> localhost:2222}\u001b[0m\n",
      "\u001b[31m2018-08-06 19:31:15.344942: I tensorflow/core/distributed_runtime/rpc/grpc_channel.cc:215] Initialize GrpcChannelCache for job ps -> {0 -> localhost:2223, 1 -> algo-2:2223}\u001b[0m\n",
      "\u001b[31m2018-08-06 19:31:15.344973: I tensorflow/core/distributed_runtime/rpc/grpc_channel.cc:215] Initialize GrpcChannelCache for job worker -> {0 -> algo-2:2222}\u001b[0m\n",
      "\u001b[31m2018-08-06 19:31:15.344955: I tensorflow/core/distributed_runtime/rpc/grpc_channel.cc:215] Initialize GrpcChannelCache for job ps -> {0 -> algo-1:2223, 1 -> algo-2:2223}\u001b[0m\n",
      "\u001b[31m2018-08-06 19:31:15.345025: I tensorflow/core/distributed_runtime/rpc/grpc_channel.cc:215] Initialize GrpcChannelCache for job worker -> {0 -> algo-2:2222}\u001b[0m\n",
      "\u001b[31m2018-08-06 19:31:15.348582: I tensorflow/core/distributed_runtime/rpc/grpc_server_lib.cc:332] Started server with target: grpc://localhost:2223\u001b[0m\n",
      "\u001b[31m2018-08-06 19:31:15.348615: I tensorflow/core/distributed_runtime/rpc/grpc_server_lib.cc:332] Started server with target: grpc://localhost:2222\u001b[0m\n",
      "\u001b[31m2018-08-06 19:31:15.357530: I tensorflow/core/platform/s3/aws_logging.cc:54] Initializing config loader against fileName /root//.aws/config and using profilePrefix = 1\u001b[0m\n",
      "\u001b[31m2018-08-06 19:31:15.357547: I tensorflow/core/platform/s3/aws_logging.cc:54] Initializing config loader against fileName /root//.aws/credentials and using profilePrefix = 0\u001b[0m\n",
      "\u001b[31m2018-08-06 19:31:15.357555: I tensorflow/core/platform/s3/aws_logging.cc:54] Setting provider to read credentials from /root//.aws/credentials for credentials file and /root//.aws/config for the config file , for use with profile default\u001b[0m\n",
      "\u001b[31m2018-08-06 19:31:15.357564: I tensorflow/core/platform/s3/aws_logging.cc:54] Creating HttpClient with max connections2 and scheme http\u001b[0m\n",
      "\u001b[31m2018-08-06 19:31:15.358070: I tensorflow/core/platform/s3/aws_logging.cc:54] Initializing CurlHandleContainer with size 2\u001b[0m\n",
      "\u001b[31m2018-08-06 19:31:15.358086: I tensorflow/core/platform/s3/aws_logging.cc:54] Creating TaskRole with default ECSCredentialsClient and refresh rate 900000\u001b[0m\n",
      "\u001b[31m2018-08-06 19:31:15.358704: I tensorflow/core/platform/s3/aws_logging.cc:54] Unable to open config file /root//.aws/credentials for reading.\u001b[0m\n",
      "\u001b[31m2018-08-06 19:31:15.358718: I tensorflow/core/platform/s3/aws_logging.cc:54] Failed to reload configuration.\u001b[0m\n",
      "\u001b[31m2018-08-06 19:31:15.358727: I tensorflow/core/platform/s3/aws_logging.cc:54] Unable to open config file /root//.aws/config for reading.\u001b[0m\n",
      "\u001b[31m2018-08-06 19:31:15.358732: I tensorflow/core/platform/s3/aws_logging.cc:54] Failed to reload configuration.\u001b[0m\n",
      "\u001b[31m2018-08-06 19:31:15.358741: I tensorflow/core/platform/s3/aws_logging.cc:54] Credentials have expired or will expire, attempting to repull from ECS IAM Service.\u001b[0m\n",
      "\u001b[31m2018-08-06 19:31:15.358865: I tensorflow/core/platform/s3/aws_logging.cc:54] Pool grown by 2\u001b[0m\n",
      "\u001b[31m2018-08-06 19:31:15.358972: I tensorflow/core/platform/s3/aws_logging.cc:54] Connection has been released. Continuing.\u001b[0m\n",
      "\u001b[31m2018-08-06 19:31:15.364481: I tensorflow/core/platform/s3/aws_logging.cc:54] Initializing CurlHandleContainer with size 25\u001b[0m\n",
      "\u001b[31m2018-08-06 19:31:15.367289: I tensorflow/core/platform/s3/aws_logging.cc:54] Pool grown by 2\u001b[0m\n",
      "\u001b[31m2018-08-06 19:31:15.367309: I tensorflow/core/platform/s3/aws_logging.cc:54] Connection has been released. Continuing.\u001b[0m\n",
      "\u001b[31m2018-08-06 19:31:15.463019: E tensorflow/core/platform/s3/aws_logging.cc:60] No response body. Response code: 404\u001b[0m\n",
      "\u001b[31m2018-08-06 19:31:15.463062: W tensorflow/core/platform/s3/aws_logging.cc:57] If the signature check failed. This could be because of a time skew. Attempting to adjust the signer.\u001b[0m\n",
      "\u001b[31m2018-08-06 19:31:15.497609: I tensorflow/core/platform/s3/aws_logging.cc:54] Connection has been released. Continuing.\u001b[0m\n",
      "\u001b[31m2018-08-06 19:31:15,589 INFO - tensorflow - Calling model_fn.\u001b[0m\n",
      "\u001b[31m2018-08-06 19:31:15,967 INFO - tensorflow - Done calling model_fn.\u001b[0m\n",
      "\u001b[31m2018-08-06 19:31:15,968 INFO - tensorflow - Create CheckpointSaverHook.\u001b[0m\n",
      "\u001b[31m2018-08-06 19:31:15.968382: I tensorflow/core/platform/s3/aws_logging.cc:54] Connection has been released. Continuing.\u001b[0m\n",
      "\u001b[31m2018-08-06 19:31:15.976708: E tensorflow/core/platform/s3/aws_logging.cc:60] No response body. Response code: 404\u001b[0m\n",
      "\u001b[31m2018-08-06 19:31:15.976770: W tensorflow/core/platform/s3/aws_logging.cc:57] If the signature check failed. This could be because of a time skew. Attempting to adjust the signer.\u001b[0m\n",
      "\u001b[31m2018-08-06 19:31:15.976890: I tensorflow/core/platform/s3/aws_logging.cc:54] Connection has been released. Continuing.\u001b[0m\n",
      "\u001b[31m2018-08-06 19:31:15.987028: I tensorflow/core/platform/s3/aws_logging.cc:54] Connection has been released. Continuing.\u001b[0m\n",
      "\u001b[31m2018-08-06 19:31:15.992923: E tensorflow/core/platform/s3/aws_logging.cc:60] No response body. Response code: 404\u001b[0m\n",
      "\u001b[31m2018-08-06 19:31:15.992956: W tensorflow/core/platform/s3/aws_logging.cc:57] If the signature check failed. This could be because of a time skew. Attempting to adjust the signer.\u001b[0m\n",
      "\u001b[31m2018-08-06 19:31:15.993054: I tensorflow/core/platform/s3/aws_logging.cc:54] Connection has been released. Continuing.\u001b[0m\n",
      "\u001b[31m2018-08-06 19:31:16.001112: I tensorflow/core/platform/s3/aws_logging.cc:54] Connection has been released. Continuing.\u001b[0m\n",
      "\u001b[31m2018-08-06 19:31:16.007839: E tensorflow/core/platform/s3/aws_logging.cc:60] No response body. Response code: 404\u001b[0m\n",
      "\u001b[31m2018-08-06 19:31:16.007871: W tensorflow/core/platform/s3/aws_logging.cc:57] If the signature check failed. This could be because of a time skew. Attempting to adjust the signer.\u001b[0m\n",
      "\u001b[31m2018-08-06 19:31:16.007980: I tensorflow/core/platform/s3/aws_logging.cc:54] Connection has been released. Continuing.\u001b[0m\n",
      "\u001b[31m2018-08-06 19:31:16.020639: I tensorflow/core/platform/s3/aws_logging.cc:54] Connection has been released. Continuing.\u001b[0m\n",
      "\u001b[31m2018-08-06 19:31:16.029460: I tensorflow/core/platform/s3/aws_logging.cc:54] Deleting file: /tmp/s3_filesystem_XXXXXX20180806T1931161533583876019\u001b[0m\n",
      "\u001b[31m2018-08-06 19:31:16.071000: I tensorflow/core/platform/s3/aws_logging.cc:54] Connection has been released. Continuing.\u001b[0m\n",
      "\u001b[31m2018-08-06 19:31:16.080772: I tensorflow/core/platform/s3/aws_logging.cc:54] Connection has been released. Continuing.\u001b[0m\n",
      "\u001b[31m2018-08-06 19:31:16.086826: I tensorflow/core/platform/s3/aws_logging.cc:54] Connection has been released. Continuing.\u001b[0m\n",
      "\u001b[31m2018-08-06 19:31:16.095495: I tensorflow/core/platform/s3/aws_logging.cc:54] Connection has been released. Continuing.\u001b[0m\n",
      "\u001b[31m2018-08-06 19:31:16.115603: I tensorflow/core/platform/s3/aws_logging.cc:54] Connection has been released. Continuing.\u001b[0m\n",
      "\u001b[31m2018-08-06 19:31:16.124638: I tensorflow/core/platform/s3/aws_logging.cc:54] Connection has been released. Continuing.\u001b[0m\n",
      "\u001b[31m2018-08-06 19:31:16,277 INFO - tensorflow - Graph was finalized.\u001b[0m\n",
      "\u001b[31m2018-08-06 19:31:16.278221: I tensorflow/core/platform/s3/aws_logging.cc:54] Connection has been released. Continuing.\u001b[0m\n",
      "\u001b[31m2018-08-06 19:31:16.299791: E tensorflow/core/platform/s3/aws_logging.cc:60] No response body. Response code: 404\u001b[0m\n",
      "\u001b[31m2018-08-06 19:31:16.299848: W tensorflow/core/platform/s3/aws_logging.cc:57] If the signature check failed. This could be because of a time skew. Attempting to adjust the signer.\u001b[0m\n",
      "\u001b[31m2018-08-06 19:31:16.299976: I tensorflow/core/platform/s3/aws_logging.cc:54] Connection has been released. Continuing.\u001b[0m\n",
      "\u001b[31m2018-08-06 19:31:18.327955: I tensorflow/core/distributed_runtime/master_session.cc:1136] Start master session 80137d41783b1d0a with config: allow_soft_placement: true\u001b[0m\n",
      "\u001b[31m2018-08-06 19:31:18,541 INFO - tensorflow - Running local_init_op.\u001b[0m\n",
      "\u001b[31m2018-08-06 19:31:18,545 INFO - tensorflow - Done running local_init_op.\u001b[0m\n",
      "\u001b[32m2018-08-06 19:31:14,586 INFO - root - running container entrypoint\u001b[0m\n",
      "\u001b[32m2018-08-06 19:31:14,586 INFO - root - starting train task\u001b[0m\n",
      "\u001b[32m2018-08-06 19:31:14,593 INFO - container_support.training - Training starting\u001b[0m\n",
      "\u001b[32m2018-08-06 19:31:17,205 INFO - botocore.vendored.requests.packages.urllib3.connectionpool - Starting new HTTP connection (1): 169.254.170.2\u001b[0m\n",
      "\u001b[32m2018-08-06 19:31:17,470 INFO - botocore.vendored.requests.packages.urllib3.connectionpool - Starting new HTTPS connection (1): sagemaker-us-west-2-500842391574.s3.amazonaws.com\u001b[0m\n",
      "\u001b[32m2018-08-06 19:31:17,537 INFO - botocore.vendored.requests.packages.urllib3.connectionpool - Starting new HTTPS connection (2): sagemaker-us-west-2-500842391574.s3.amazonaws.com\u001b[0m\n",
      "\u001b[32m2018-08-06 19:31:17,552 INFO - botocore.vendored.requests.packages.urllib3.connectionpool - Starting new HTTPS connection (1): sagemaker-us-west-2-500842391574.s3.us-west-2.amazonaws.com\u001b[0m\n",
      "\u001b[32m2018-08-06 19:31:17,604 INFO - botocore.vendored.requests.packages.urllib3.connectionpool - Starting new HTTPS connection (2): sagemaker-us-west-2-500842391574.s3.us-west-2.amazonaws.com\u001b[0m\n",
      "\u001b[32m2018-08-06 19:31:17,697 INFO - botocore.vendored.requests.packages.urllib3.connectionpool - Starting new HTTPS connection (1): s3.us-west-2.amazonaws.com\u001b[0m\n",
      "\u001b[32m2018-08-06 19:31:17,731 INFO - tf_container - ----------------------TF_CONFIG--------------------------\u001b[0m\n",
      "\u001b[32m2018-08-06 19:31:17,731 INFO - tf_container - {\"environment\": \"cloud\", \"cluster\": {\"worker\": [\"algo-2:2222\"], \"ps\": [\"algo-1:2223\", \"algo-2:2223\"], \"master\": [\"algo-1:2222\"]}, \"task\": {\"index\": 0, \"type\": \"worker\"}}\u001b[0m\n",
      "\u001b[32m2018-08-06 19:31:17,731 INFO - tf_container - ---------------------------------------------------------\u001b[0m\n",
      "\u001b[32m2018-08-06 19:31:17,731 INFO - tf_container - creating RunConfig:\u001b[0m\n",
      "\u001b[32m2018-08-06 19:31:17,731 INFO - tf_container - {'save_checkpoints_secs': 300}\u001b[0m\n",
      "\u001b[32m2018-08-06 19:31:17,731 INFO - tensorflow - TF_CONFIG environment variable: {u'environment': u'cloud', u'cluster': {u'ps': [u'algo-1:2223', u'algo-2:2223'], u'worker': [u'algo-2:2222'], u'master': [u'algo-1:2222']}, u'task': {u'index': 0, u'type': u'worker'}}\u001b[0m\n",
      "\u001b[32m2018-08-06 19:31:17,732 INFO - tf_container - creating an estimator from the user-provided model_fn\u001b[0m\n",
      "\u001b[32m2018-08-06 19:31:17,733 INFO - tensorflow - Using config: {'_save_checkpoints_secs': 300, '_session_config': None, '_keep_checkpoint_max': 5, '_tf_random_seed': None, '_task_type': u'worker', '_train_distribute': None, '_is_chief': False, '_cluster_spec': <tensorflow.python.training.server_lib.ClusterSpec object at 0x7fde74d47890>, '_model_dir': u's3://sagemaker-us-west-2-500842391574/sagemaker-tensorflow-2018-08-06-19-28-38-601/checkpoints', '_num_worker_replicas': 2, '_task_id': 0, '_log_step_count_steps': 100, '_master': u'grpc://algo-2:2222', '_save_checkpoints_steps': None, '_keep_checkpoint_every_n_hours': 10000, '_evaluation_master': '', '_service': None, '_global_id_in_cluster': 1, '_save_summary_steps': 100, '_num_ps_replicas': 2}\u001b[0m\n",
      "\u001b[32m2018-08-06 19:31:17,734 INFO - tensorflow - Start Tensorflow server.\u001b[0m\n",
      "\u001b[32m2018-08-06 19:31:17.747256: I tensorflow/core/distributed_runtime/rpc/grpc_channel.cc:215] Initialize GrpcChannelCache for job master -> {0 -> algo-1:2222}\u001b[0m\n",
      "\u001b[32m2018-08-06 19:31:17.747264: I tensorflow/core/distributed_runtime/rpc/grpc_channel.cc:215] Initialize GrpcChannelCache for job master -> {0 -> algo-1:2222}\u001b[0m\n",
      "\u001b[32m2018-08-06 19:31:17.747275: I tensorflow/core/distributed_runtime/rpc/grpc_channel.cc:215] Initialize GrpcChannelCache for job ps -> {0 -> algo-1:2223, 1 -> localhost:2223}\u001b[0m\n",
      "\u001b[32m2018-08-06 19:31:17.747280: I tensorflow/core/distributed_runtime/rpc/grpc_channel.cc:215] Initialize GrpcChannelCache for job ps -> {0 -> algo-1:2223, 1 -> algo-2:2223}\u001b[0m\n",
      "\u001b[32m2018-08-06 19:31:17.747281: I tensorflow/core/distributed_runtime/rpc/grpc_channel.cc:215] Initialize GrpcChannelCache for job worker -> {0 -> algo-2:2222}\u001b[0m\n",
      "\u001b[32m2018-08-06 19:31:17.747291: I tensorflow/core/distributed_runtime/rpc/grpc_channel.cc:215] Initialize GrpcChannelCache for job worker -> {0 -> localhost:2222}\u001b[0m\n",
      "\u001b[32m2018-08-06 19:31:17.750752: I tensorflow/core/distributed_runtime/rpc/grpc_server_lib.cc:332] Started server with target: grpc://localhost:2223\u001b[0m\n",
      "\u001b[32m2018-08-06 19:31:17.750858: I tensorflow/core/distributed_runtime/rpc/grpc_server_lib.cc:332] Started server with target: grpc://localhost:2222\u001b[0m\n",
      "\u001b[32m2018-08-06 19:31:17,750 INFO - tensorflow - Waiting 5 secs before starting training.\u001b[0m\n",
      "\u001b[32m2018-08-06 19:31:19.482677: I tensorflow/core/platform/s3/aws_logging.cc:54] Initializing config loader against fileName /root//.aws/config and using profilePrefix = 1\u001b[0m\n",
      "\u001b[32m2018-08-06 19:31:19.482731: I tensorflow/core/platform/s3/aws_logging.cc:54] Initializing config loader against fileName /root//.aws/credentials and using profilePrefix = 0\u001b[0m\n",
      "\u001b[32m2018-08-06 19:31:19.482742: I tensorflow/core/platform/s3/aws_logging.cc:54] Setting provider to read credentials from /root//.aws/credentials for credentials file and /root//.aws/config for the config file , for use with profile default\u001b[0m\n",
      "\u001b[32m2018-08-06 19:31:19.482750: I tensorflow/core/platform/s3/aws_logging.cc:54] Creating HttpClient with max connections2 and scheme http\u001b[0m\n",
      "\u001b[32m2018-08-06 19:31:19.483279: I tensorflow/core/platform/s3/aws_logging.cc:54] Initializing CurlHandleContainer with size 2\u001b[0m\n",
      "\u001b[32m2018-08-06 19:31:19.483295: I tensorflow/core/platform/s3/aws_logging.cc:54] Creating TaskRole with default ECSCredentialsClient and refresh rate 900000\u001b[0m\n",
      "\u001b[32m2018-08-06 19:31:19.483790: I tensorflow/core/platform/s3/aws_logging.cc:54] Unable to open config file /root//.aws/credentials for reading.\u001b[0m\n",
      "\u001b[32m2018-08-06 19:31:19.483801: I tensorflow/core/platform/s3/aws_logging.cc:54] Failed to reload configuration.\u001b[0m\n",
      "\u001b[32m2018-08-06 19:31:19.483808: I tensorflow/core/platform/s3/aws_logging.cc:54] Unable to open config file /root//.aws/config for reading.\u001b[0m\n",
      "\u001b[32m2018-08-06 19:31:19.483813: I tensorflow/core/platform/s3/aws_logging.cc:54] Failed to reload configuration.\u001b[0m\n",
      "\u001b[32m2018-08-06 19:31:19.483822: I tensorflow/core/platform/s3/aws_logging.cc:54] Credentials have expired or will expire, attempting to repull from ECS IAM Service.\u001b[0m\n",
      "\u001b[32m2018-08-06 19:31:19.483924: I tensorflow/core/platform/s3/aws_logging.cc:54] Pool grown by 2\u001b[0m\n",
      "\u001b[32m2018-08-06 19:31:19.483933: I tensorflow/core/platform/s3/aws_logging.cc:54] Connection has been released. Continuing.\u001b[0m\n",
      "\u001b[32m2018-08-06 19:31:19.488607: I tensorflow/core/platform/s3/aws_logging.cc:54] Initializing CurlHandleContainer with size 25\u001b[0m\n",
      "\u001b[32m2018-08-06 19:31:19.492587: I tensorflow/core/platform/s3/aws_logging.cc:54] Pool grown by 2\u001b[0m\n",
      "\u001b[32m2018-08-06 19:31:19.492599: I tensorflow/core/platform/s3/aws_logging.cc:54] Connection has been released. Continuing.\u001b[0m\n",
      "\u001b[31m2018-08-06 19:31:18.622728: I tensorflow/core/platform/s3/aws_logging.cc:54] Connection has been released. Continuing.\u001b[0m\n",
      "\u001b[31m2018-08-06 19:31:18.633775: E tensorflow/core/platform/s3/aws_logging.cc:60] No response body. Response code: 404\u001b[0m\n",
      "\u001b[31m2018-08-06 19:31:18.633802: W tensorflow/core/platform/s3/aws_logging.cc:57] If the signature check failed. This could be because of a time skew. Attempting to adjust the signer.\u001b[0m\n",
      "\u001b[31m2018-08-06 19:31:18.633929: I tensorflow/core/platform/s3/aws_logging.cc:54] Connection has been released. Continuing.\u001b[0m\n",
      "\u001b[31m2018-08-06 19:31:18.818343: I tensorflow/core/platform/s3/aws_logging.cc:54] Connection has been released. Continuing.\u001b[0m\n",
      "\u001b[31m2018-08-06 19:31:18.888487: I tensorflow/core/platform/s3/aws_logging.cc:54] Deleting file: /tmp/s3_filesystem_XXXXXX20180806T1931181533583878817\u001b[0m\n",
      "\u001b[31m2018-08-06 19:31:18.889876: I tensorflow/core/platform/s3/aws_logging.cc:54] Connection has been released. Continuing.\u001b[0m\n",
      "\u001b[31m2018-08-06 19:31:18.901898: I tensorflow/core/platform/s3/aws_logging.cc:54] Connection has been released. Continuing.\u001b[0m\n",
      "\u001b[31m2018-08-06 19:31:18.969810: I tensorflow/core/platform/s3/aws_logging.cc:54] Connection has been released. Continuing.\u001b[0m\n",
      "\u001b[31m2018-08-06 19:31:19,457 INFO - tensorflow - Saving checkpoints for 1 into s3://sagemaker-us-west-2-500842391574/sagemaker-tensorflow-2018-08-06-19-28-38-601/checkpoints/model.ckpt.\u001b[0m\n",
      "\u001b[31m2018-08-06 19:31:19.476168: I tensorflow/core/platform/s3/aws_logging.cc:54] Connection has been released. Continuing.\u001b[0m\n",
      "\u001b[31m2018-08-06 19:31:19.486848: I tensorflow/core/platform/s3/aws_logging.cc:54] Deleting file: /tmp/s3_filesystem_XXXXXX20180806T1931191533583879475\u001b[0m\n",
      "\u001b[31m2018-08-06 19:31:19.491190: I tensorflow/core/platform/s3/aws_logging.cc:54] Connection has been released. Continuing.\u001b[0m\n",
      "\u001b[31m2018-08-06 19:31:19.507269: I tensorflow/core/platform/s3/aws_logging.cc:54] Deleting file: /tmp/s3_filesystem_XXXXXX20180806T1931191533583879486\u001b[0m\n",
      "\u001b[31m2018-08-06 19:31:19.507422: I tensorflow/core/platform/s3/aws_logging.cc:54] Connection has been released. Continuing.\u001b[0m\n",
      "\u001b[31m2018-08-06 19:31:19.520068: I tensorflow/core/platform/s3/aws_logging.cc:54] Connection has been released. Continuing.\u001b[0m\n",
      "\u001b[32m2018-08-06 19:31:19.545400: I tensorflow/core/platform/s3/aws_logging.cc:54] Deleting file: /tmp/s3_filesystem_XXXXXX20180806T1931191533583879489\u001b[0m\n",
      "\u001b[32m2018-08-06 19:31:19.579606: I tensorflow/core/platform/s3/aws_logging.cc:54] Connection has been released. Continuing.\u001b[0m\n",
      "\u001b[31m2018-08-06 19:31:19.568747: I tensorflow/core/platform/s3/aws_logging.cc:54] Connection has been released. Continuing.\u001b[0m\n",
      "\u001b[31m2018-08-06 19:31:19.579767: I tensorflow/core/platform/s3/aws_logging.cc:54] Connection has been released. Continuing.\u001b[0m\n",
      "\u001b[31m2018-08-06 19:31:19.593559: I tensorflow/core/platform/s3/aws_logging.cc:54] Deleting file: /tmp/s3_filesystem_XXXXXX20180806T1931191533583879579\u001b[0m\n",
      "\u001b[31m2018-08-06 19:31:19.593711: I tensorflow/core/platform/s3/aws_logging.cc:54] Connection has been released. Continuing.\u001b[0m\n",
      "\u001b[31m2018-08-06 19:31:19.605910: I tensorflow/core/platform/s3/aws_logging.cc:54] Connection has been released. Continuing.\u001b[0m\n",
      "\u001b[31m2018-08-06 19:31:19.646587: I tensorflow/core/platform/s3/aws_logging.cc:54] Connection has been released. Continuing.\u001b[0m\n",
      "\u001b[32m2018-08-06 19:31:21.003252: I tensorflow/core/platform/s3/aws_logging.cc:54] Deleting file: /tmp/s3_filesystem_XXXXXX20180806T1931191533583879545\u001b[0m\n",
      "\u001b[32m2018-08-06 19:31:21.010920: I tensorflow/core/platform/s3/aws_logging.cc:54] Connection has been released. Continuing.\u001b[0m\n",
      "\u001b[32m2018-08-06 19:31:21.020976: I tensorflow/core/platform/s3/aws_logging.cc:54] Connection has been released. Continuing.\u001b[0m\n",
      "\u001b[32m2018-08-06 19:31:22.755024: I tensorflow/core/platform/s3/aws_logging.cc:54] Connection has been released. Continuing.\u001b[0m\n",
      "\u001b[32m2018-08-06 19:31:22.823095: E tensorflow/core/platform/s3/aws_logging.cc:60] No response body. Response code: 404\u001b[0m\n",
      "\u001b[32m2018-08-06 19:31:22.823140: W tensorflow/core/platform/s3/aws_logging.cc:57] If the signature check failed. This could be because of a time skew. Attempting to adjust the signer.\u001b[0m\n",
      "\u001b[32m2018-08-06 19:31:22.823295: I tensorflow/core/platform/s3/aws_logging.cc:54] Connection has been released. Continuing.\u001b[0m\n",
      "\u001b[32m2018-08-06 19:31:22.823880: I tensorflow/core/platform/s3/aws_logging.cc:54] Connection has been released. Continuing.\u001b[0m\n",
      "\u001b[32m2018-08-06 19:31:22.833507: I tensorflow/core/platform/s3/aws_logging.cc:54] Connection has been released. Continuing.\u001b[0m\n",
      "\u001b[32m2018-08-06 19:31:22.849038: I tensorflow/core/platform/s3/aws_logging.cc:54] Deleting file: /tmp/s3_filesystem_XXXXXX20180806T1931221533583882833\u001b[0m\n",
      "\u001b[32m2018-08-06 19:31:22.849213: I tensorflow/core/platform/s3/aws_logging.cc:54] Connection has been released. Continuing.\u001b[0m\n",
      "\u001b[32m2018-08-06 19:31:22.861904: I tensorflow/core/platform/s3/aws_logging.cc:54] Connection has been released. Continuing.\u001b[0m\n",
      "\u001b[32m2018-08-06 19:31:22.886956: I tensorflow/core/platform/s3/aws_logging.cc:54] Connection has been released. Continuing.\u001b[0m\n",
      "\u001b[32m2018-08-06 19:31:22,887 INFO - tensorflow - Calling model_fn.\u001b[0m\n",
      "\u001b[32m2018-08-06 19:31:22.898660: I tensorflow/core/platform/s3/aws_logging.cc:54] Connection has been released. Continuing.\u001b[0m\n",
      "\u001b[32m2018-08-06 19:31:22.908022: I tensorflow/core/platform/s3/aws_logging.cc:54] Deleting file: /tmp/s3_filesystem_XXXXXX20180806T1931221533583882898\u001b[0m\n",
      "\u001b[32m2018-08-06 19:31:22.908231: I tensorflow/core/platform/s3/aws_logging.cc:54] Connection has been released. Continuing.\u001b[0m\n",
      "\u001b[32m2018-08-06 19:31:22.916035: I tensorflow/core/platform/s3/aws_logging.cc:54] Connection has been released. Continuing.\u001b[0m\n",
      "\u001b[32m2018-08-06 19:31:22.926019: I tensorflow/core/platform/s3/aws_logging.cc:54] Connection has been released. Continuing.\u001b[0m\n",
      "\u001b[32m2018-08-06 19:31:22.937718: I tensorflow/core/platform/s3/aws_logging.cc:54] Connection has been released. Continuing.\u001b[0m\n",
      "\u001b[32m2018-08-06 19:31:22.948396: I tensorflow/core/platform/s3/aws_logging.cc:54] Connection has been released. Continuing.\u001b[0m\n",
      "\u001b[32m2018-08-06 19:31:22.958492: I tensorflow/core/platform/s3/aws_logging.cc:54] Connection has been released. Continuing.\u001b[0m\n",
      "\u001b[32m2018-08-06 19:31:22.966590: I tensorflow/core/platform/s3/aws_logging.cc:54] Connection has been released. Continuing.\u001b[0m\n",
      "\u001b[32m2018-08-06 19:31:22.974315: I tensorflow/core/platform/s3/aws_logging.cc:54] Connection has been released. Continuing.\u001b[0m\n",
      "\u001b[32m2018-08-06 19:31:22.984627: I tensorflow/core/platform/s3/aws_logging.cc:54] Connection has been released. Continuing.\u001b[0m\n",
      "\u001b[32m2018-08-06 19:31:22.994080: I tensorflow/core/platform/s3/aws_logging.cc:54] Connection has been released. Continuing.\u001b[0m\n",
      "\u001b[32m2018-08-06 19:31:23.003708: I tensorflow/core/platform/s3/aws_logging.cc:54] Connection has been released. Continuing.\u001b[0m\n",
      "\u001b[32m2018-08-06 19:31:23.014309: I tensorflow/core/platform/s3/aws_logging.cc:54] Connection has been released. Continuing.\u001b[0m\n",
      "\u001b[32m2018-08-06 19:31:23,265 INFO - tensorflow - Done calling model_fn.\u001b[0m\n",
      "\u001b[32m2018-08-06 19:31:23,266 INFO - tensorflow - Create CheckpointSaverHook.\u001b[0m\n",
      "\u001b[32m2018-08-06 19:31:23,390 INFO - tensorflow - Graph was finalized.\u001b[0m\n",
      "\u001b[32m2018-08-06 19:31:23.402765: I tensorflow/core/distributed_runtime/master_session.cc:1136] Start master session a49455c9f62d3133 with config: allow_soft_placement: true\u001b[0m\n",
      "\u001b[32m2018-08-06 19:31:23,470 INFO - tensorflow - Running local_init_op.\u001b[0m\n",
      "\u001b[32m2018-08-06 19:31:23,474 INFO - tensorflow - Done running local_init_op.\u001b[0m\n",
      "\u001b[32m2018-08-06 19:31:23,962 INFO - tensorflow - loss = 2.1350503, step = 1\u001b[0m\n",
      "\u001b[32m2018-08-06 19:31:24.102240: I tensorflow/core/platform/s3/aws_logging.cc:54] Connection has been released. Continuing.\u001b[0m\n",
      "\u001b[32m2018-08-06 19:31:24.115388: I tensorflow/core/platform/s3/aws_logging.cc:54] Connection has been released. Continuing.\u001b[0m\n",
      "\u001b[32m2018-08-06 19:31:24.132704: I tensorflow/core/platform/s3/aws_logging.cc:54] Connection has been released. Continuing.\u001b[0m\n",
      "\u001b[32m2018-08-06 19:31:24.161495: I tensorflow/core/platform/s3/aws_logging.cc:54] Connection has been released. Continuing.\u001b[0m\n",
      "\u001b[32m2018-08-06 19:31:24.170479: I tensorflow/core/platform/s3/aws_logging.cc:54] Connection has been released. Continuing.\u001b[0m\n",
      "\u001b[32m2018-08-06 19:31:24.202495: I tensorflow/core/platform/s3/aws_logging.cc:54] Deleting file: /tmp/s3_filesystem_XXXXXX20180806T1931241533583884170\u001b[0m\n",
      "\u001b[32m2018-08-06 19:31:24.202810: I tensorflow/core/platform/s3/aws_logging.cc:54] Connection has been released. Continuing.\u001b[0m\n",
      "\u001b[32m2018-08-06 19:31:24.211977: I tensorflow/core/platform/s3/aws_logging.cc:54] Connection has been released. Continuing.\u001b[0m\n",
      "\u001b[32m2018-08-06 19:31:24.220908: I tensorflow/core/platform/s3/aws_logging.cc:54] Connection has been released. Continuing.\u001b[0m\n",
      "\u001b[32m2018-08-06 19:31:24.232001: I tensorflow/core/platform/s3/aws_logging.cc:54] Connection has been released. Continuing.\u001b[0m\n",
      "\u001b[32m2018-08-06 19:31:24.240155: I tensorflow/core/platform/s3/aws_logging.cc:54] Connection has been released. Continuing.\u001b[0m\n",
      "\u001b[31m2018-08-06 19:31:24.252671: I tensorflow/core/platform/s3/aws_logging.cc:54] Connection has been released. Continuing.\u001b[0m\n",
      "\u001b[31m2018-08-06 19:31:24.270791: I tensorflow/core/platform/s3/aws_logging.cc:54] Deleting file: /tmp/s3_filesystem_XXXXXX20180806T1931241533583884252\u001b[0m\n",
      "\u001b[31m2018-08-06 19:31:24.271080: I tensorflow/core/platform/s3/aws_logging.cc:54] Connection has been released. Continuing.\u001b[0m\n",
      "\u001b[31m2018-08-06 19:31:24.284011: I tensorflow/core/platform/s3/aws_logging.cc:54] Connection has been released. Continuing.\u001b[0m\n",
      "\u001b[31m2018-08-06 19:31:24.329957: I tensorflow/core/platform/s3/aws_logging.cc:54] Connection has been released. Continuing.\u001b[0m\n",
      "\u001b[31m2018-08-06 19:31:24.364115: I tensorflow/core/platform/s3/aws_logging.cc:54] Connection has been released. Continuing.\u001b[0m\n",
      "\u001b[31m2018-08-06 19:31:24.369620: E tensorflow/core/platform/s3/aws_logging.cc:60] No response body. Response code: 404\u001b[0m\n",
      "\u001b[31m2018-08-06 19:31:24.369655: W tensorflow/core/platform/s3/aws_logging.cc:57] If the signature check failed. This could be because of a time skew. Attempting to adjust the signer.\u001b[0m\n",
      "\u001b[31m2018-08-06 19:31:24.369757: I tensorflow/core/platform/s3/aws_logging.cc:54] Connection has been released. Continuing.\u001b[0m\n",
      "\u001b[31m2018-08-06 19:31:24.387202: I tensorflow/core/platform/s3/aws_logging.cc:54] Connection has been released. Continuing.\u001b[0m\n",
      "\u001b[31m2018-08-06 19:31:24.439753: I tensorflow/core/platform/s3/aws_logging.cc:54] Deleting file: /tmp/s3_filesystem_XXXXXX20180806T1931241533583884386\u001b[0m\n",
      "\u001b[31m2018-08-06 19:31:24.439965: I tensorflow/core/platform/s3/aws_logging.cc:54] Connection has been released. Continuing.\u001b[0m\n",
      "\u001b[31m2018-08-06 19:31:24.454063: I tensorflow/core/platform/s3/aws_logging.cc:54] Connection has been released. Continuing.\u001b[0m\n",
      "\u001b[31m2018-08-06 19:31:24.527047: I tensorflow/core/platform/s3/aws_logging.cc:54] Connection has been released. Continuing.\u001b[0m\n",
      "\u001b[31m2018-08-06 19:31:24.539878: I tensorflow/core/platform/s3/aws_logging.cc:54] Connection has been released. Continuing.\u001b[0m\n",
      "\u001b[31m2018-08-06 19:31:24.547090: I tensorflow/core/platform/s3/aws_logging.cc:54] Connection has been released. Continuing.\u001b[0m\n"
     ]
    },
    {
     "name": "stdout",
     "output_type": "stream",
     "text": [
      "\u001b[31m2018-08-06 19:31:24.556649: I tensorflow/core/platform/s3/aws_logging.cc:54] Connection has been released. Continuing.\u001b[0m\n",
      "\u001b[31m2018-08-06 19:31:24.563496: I tensorflow/core/platform/s3/aws_logging.cc:54] Connection has been released. Continuing.\u001b[0m\n",
      "\u001b[31m2018-08-06 19:31:24.574020: I tensorflow/core/platform/s3/aws_logging.cc:54] Connection has been released. Continuing.\u001b[0m\n",
      "\u001b[31m2018-08-06 19:31:24.588071: I tensorflow/core/platform/s3/aws_logging.cc:54] Connection has been released. Continuing.\u001b[0m\n",
      "\u001b[31m2018-08-06 19:31:24.602971: I tensorflow/core/platform/s3/aws_logging.cc:54] Connection has been released. Continuing.\u001b[0m\n",
      "\u001b[31m2018-08-06 19:31:24.610562: I tensorflow/core/platform/s3/aws_logging.cc:54] Connection has been released. Continuing.\u001b[0m\n",
      "\u001b[31m2018-08-06 19:31:24.620077: I tensorflow/core/platform/s3/aws_logging.cc:54] Connection has been released. Continuing.\u001b[0m\n",
      "\u001b[31m2018-08-06 19:31:24.626264: I tensorflow/core/platform/s3/aws_logging.cc:54] Connection has been released. Continuing.\u001b[0m\n",
      "\u001b[31m2018-08-06 19:31:24,659 INFO - tensorflow - Calling model_fn.\u001b[0m\n",
      "\u001b[31m2018-08-06 19:31:24,782 INFO - tensorflow - Done calling model_fn.\u001b[0m\n",
      "\u001b[31m2018-08-06 19:31:24,799 INFO - tensorflow - Starting evaluation at 2018-08-06-19:31:24\u001b[0m\n",
      "\u001b[31m2018-08-06 19:31:24,873 INFO - tensorflow - Graph was finalized.\u001b[0m\n",
      "\u001b[31m2018-08-06 19:31:24.873593: I tensorflow/core/common_runtime/process_util.cc:63] Creating new thread pool with default inter op setting: 2. Tune using inter_op_parallelism_threads for best performance.\u001b[0m\n",
      "\u001b[31m2018-08-06 19:31:24,873 INFO - tensorflow - Restoring parameters from s3://sagemaker-us-west-2-500842391574/sagemaker-tensorflow-2018-08-06-19-28-38-601/checkpoints/model.ckpt-1\u001b[0m\n",
      "\u001b[31m2018-08-06 19:31:24.887208: I tensorflow/core/platform/s3/aws_logging.cc:54] Connection has been released. Continuing.\u001b[0m\n",
      "\u001b[31m2018-08-06 19:31:24.902775: I tensorflow/core/platform/s3/aws_logging.cc:54] Connection has been released. Continuing.\u001b[0m\n",
      "\u001b[31m2018-08-06 19:31:24.910193: I tensorflow/core/platform/s3/aws_logging.cc:54] Connection has been released. Continuing.\u001b[0m\n",
      "\u001b[31m2018-08-06 19:31:24.920839: I tensorflow/core/platform/s3/aws_logging.cc:54] Connection has been released. Continuing.\u001b[0m\n",
      "\u001b[31m2018-08-06 19:31:24.930784: I tensorflow/core/platform/s3/aws_logging.cc:54] Connection has been released. Continuing.\u001b[0m\n",
      "\u001b[31m2018-08-06 19:31:24.941290: I tensorflow/core/platform/s3/aws_logging.cc:54] Connection has been released. Continuing.\u001b[0m\n",
      "\u001b[31m2018-08-06 19:31:24.949884: I tensorflow/core/platform/s3/aws_logging.cc:54] Connection has been released. Continuing.\u001b[0m\n",
      "\u001b[31m2018-08-06 19:31:24.958472: I tensorflow/core/platform/s3/aws_logging.cc:54] Connection has been released. Continuing.\u001b[0m\n",
      "\u001b[31m2018-08-06 19:31:24.967378: I tensorflow/core/platform/s3/aws_logging.cc:54] Connection has been released. Continuing.\u001b[0m\n",
      "\u001b[31m2018-08-06 19:31:24.976315: I tensorflow/core/platform/s3/aws_logging.cc:54] Connection has been released. Continuing.\u001b[0m\n",
      "\u001b[31m2018-08-06 19:31:24.985694: I tensorflow/core/platform/s3/aws_logging.cc:54] Connection has been released. Continuing.\u001b[0m\n",
      "\u001b[31m2018-08-06 19:31:24.998199: I tensorflow/core/platform/s3/aws_logging.cc:54] Connection has been released. Continuing.\u001b[0m\n",
      "\u001b[31m2018-08-06 19:31:25.042755: I tensorflow/core/platform/s3/aws_logging.cc:54] Connection has been released. Continuing.\u001b[0m\n",
      "\u001b[31m2018-08-06 19:31:25.186799: I tensorflow/core/platform/s3/aws_logging.cc:54] Connection has been released. Continuing.\u001b[0m\n",
      "\u001b[31m2018-08-06 19:31:25,214 INFO - tensorflow - Running local_init_op.\u001b[0m\n",
      "\u001b[31m2018-08-06 19:31:25,222 INFO - tensorflow - Done running local_init_op.\u001b[0m\n",
      "\u001b[31m2018-08-06 19:31:25,633 INFO - tensorflow - Evaluation [10/100]\u001b[0m\n",
      "\u001b[31m2018-08-06 19:31:25,889 INFO - tensorflow - Evaluation [20/100]\u001b[0m\n",
      "\u001b[31m2018-08-06 19:31:26,164 INFO - tensorflow - Evaluation [30/100]\u001b[0m\n",
      "\u001b[31m2018-08-06 19:31:26,434 INFO - tensorflow - Evaluation [40/100]\u001b[0m\n",
      "\u001b[31m2018-08-06 19:31:26,696 INFO - tensorflow - Evaluation [50/100]\u001b[0m\n",
      "\u001b[31m2018-08-06 19:31:26,960 INFO - tensorflow - Evaluation [60/100]\u001b[0m\n",
      "\u001b[31m2018-08-06 19:31:27,226 INFO - tensorflow - Evaluation [70/100]\u001b[0m\n",
      "\u001b[31m2018-08-06 19:31:27,484 INFO - tensorflow - Evaluation [80/100]\u001b[0m\n",
      "\u001b[31m2018-08-06 19:31:27,734 INFO - tensorflow - Evaluation [90/100]\u001b[0m\n",
      "\u001b[31m2018-08-06 19:31:27,993 INFO - tensorflow - Evaluation [100/100]\u001b[0m\n",
      "\u001b[31m2018-08-06 19:31:28,019 INFO - tensorflow - Finished evaluation at 2018-08-06-19:31:28\u001b[0m\n",
      "\u001b[31m2018-08-06 19:31:28,019 INFO - tensorflow - Saving dict for global step 1: accuracy = 0.1966, global_step = 1, loss = 2.2158635\u001b[0m\n",
      "\u001b[31m2018-08-06 19:31:28.019983: I tensorflow/core/platform/s3/aws_logging.cc:54] Connection has been released. Continuing.\u001b[0m\n",
      "\u001b[31m2018-08-06 19:31:28.026131: E tensorflow/core/platform/s3/aws_logging.cc:60] No response body. Response code: 404\u001b[0m\n",
      "\u001b[31m2018-08-06 19:31:28.026155: W tensorflow/core/platform/s3/aws_logging.cc:57] If the signature check failed. This could be because of a time skew. Attempting to adjust the signer.\u001b[0m\n",
      "\u001b[31m2018-08-06 19:31:28.026260: I tensorflow/core/platform/s3/aws_logging.cc:54] Connection has been released. Continuing.\u001b[0m\n",
      "\u001b[31m2018-08-06 19:31:28.037719: I tensorflow/core/platform/s3/aws_logging.cc:54] Connection has been released. Continuing.\u001b[0m\n",
      "\u001b[31m2018-08-06 19:31:28.043828: E tensorflow/core/platform/s3/aws_logging.cc:60] No response body. Response code: 404\u001b[0m\n",
      "\u001b[31m2018-08-06 19:31:28.043851: W tensorflow/core/platform/s3/aws_logging.cc:57] If the signature check failed. This could be because of a time skew. Attempting to adjust the signer.\u001b[0m\n",
      "\u001b[31m2018-08-06 19:31:28.043953: I tensorflow/core/platform/s3/aws_logging.cc:54] Connection has been released. Continuing.\u001b[0m\n",
      "\u001b[31m2018-08-06 19:31:28.053013: I tensorflow/core/platform/s3/aws_logging.cc:54] Connection has been released. Continuing.\u001b[0m\n",
      "\u001b[31m2018-08-06 19:31:28.060407: E tensorflow/core/platform/s3/aws_logging.cc:60] No response body. Response code: 404\u001b[0m\n",
      "\u001b[31m2018-08-06 19:31:28.060449: W tensorflow/core/platform/s3/aws_logging.cc:57] If the signature check failed. This could be because of a time skew. Attempting to adjust the signer.\u001b[0m\n",
      "\u001b[31m2018-08-06 19:31:28.060666: I tensorflow/core/platform/s3/aws_logging.cc:54] Connection has been released. Continuing.\u001b[0m\n",
      "\u001b[31m2018-08-06 19:31:28.071529: I tensorflow/core/platform/s3/aws_logging.cc:54] Connection has been released. Continuing.\u001b[0m\n",
      "\u001b[31m2018-08-06 19:31:28.080886: I tensorflow/core/platform/s3/aws_logging.cc:54] Deleting file: /tmp/s3_filesystem_XXXXXX20180806T1931281533583888071\u001b[0m\n",
      "\u001b[31m2018-08-06 19:31:28.113262: I tensorflow/core/platform/s3/aws_logging.cc:54] Connection has been released. Continuing.\u001b[0m\n",
      "\u001b[31m2018-08-06 19:31:28.126960: I tensorflow/core/platform/s3/aws_logging.cc:54] Connection has been released. Continuing.\u001b[0m\n",
      "\u001b[31m2018-08-06 19:31:28.134855: I tensorflow/core/platform/s3/aws_logging.cc:54] Connection has been released. Continuing.\u001b[0m\n",
      "\u001b[31m2018-08-06 19:31:28.144960: I tensorflow/core/platform/s3/aws_logging.cc:54] Connection has been released. Continuing.\u001b[0m\n",
      "\u001b[31m2018-08-06 19:31:28.195197: I tensorflow/core/platform/s3/aws_logging.cc:54] Connection has been released. Continuing.\u001b[0m\n",
      "\u001b[31m2018-08-06 19:31:28.204540: I tensorflow/core/platform/s3/aws_logging.cc:54] Connection has been released. Continuing.\u001b[0m\n",
      "\u001b[31m2018-08-06 19:31:28.234322: I tensorflow/core/platform/s3/aws_logging.cc:54] Connection has been released. Continuing.\u001b[0m\n",
      "\u001b[31m2018-08-06 19:31:28.313487: I tensorflow/core/platform/s3/aws_logging.cc:54] Connection has been released. Continuing.\u001b[0m\n",
      "\u001b[31m2018-08-06 19:31:28.322294: I tensorflow/core/platform/s3/aws_logging.cc:54] Connection has been released. Continuing.\u001b[0m\n",
      "\u001b[31m2018-08-06 19:31:28,336 INFO - tensorflow - Calling model_fn.\u001b[0m\n",
      "\u001b[31m2018-08-06 19:31:28,396 INFO - tensorflow - Done calling model_fn.\u001b[0m\n",
      "\u001b[31m2018-08-06 19:31:28,397 INFO - tensorflow - Signatures INCLUDED in export for Classify: None\u001b[0m\n",
      "\u001b[31m2018-08-06 19:31:28,397 INFO - tensorflow - Signatures INCLUDED in export for Regress: None\u001b[0m\n",
      "\u001b[31m2018-08-06 19:31:28,397 INFO - tensorflow - Signatures INCLUDED in export for Predict: ['serving_default', 'predictions']\u001b[0m\n",
      "\u001b[31m2018-08-06 19:31:28.397541: I tensorflow/core/platform/s3/aws_logging.cc:54] Connection has been released. Continuing.\u001b[0m\n",
      "\u001b[31m2018-08-06 19:31:28.406842: E tensorflow/core/platform/s3/aws_logging.cc:60] No response body. Response code: 404\u001b[0m\n",
      "\u001b[31m2018-08-06 19:31:28.406894: W tensorflow/core/platform/s3/aws_logging.cc:57] If the signature check failed. This could be because of a time skew. Attempting to adjust the signer.\u001b[0m\n",
      "\u001b[31m2018-08-06 19:31:28.407056: I tensorflow/core/platform/s3/aws_logging.cc:54] Connection has been released. Continuing.\u001b[0m\n",
      "\u001b[31m2018-08-06 19:31:28,431 INFO - tensorflow - Restoring parameters from s3://sagemaker-us-west-2-500842391574/sagemaker-tensorflow-2018-08-06-19-28-38-601/checkpoints/model.ckpt-1\u001b[0m\n",
      "\u001b[31m2018-08-06 19:31:28.439991: I tensorflow/core/platform/s3/aws_logging.cc:54] Connection has been released. Continuing.\u001b[0m\n",
      "\u001b[31m2018-08-06 19:31:28.457385: I tensorflow/core/platform/s3/aws_logging.cc:54] Connection has been released. Continuing.\u001b[0m\n",
      "\u001b[31m2018-08-06 19:31:28.464488: I tensorflow/core/platform/s3/aws_logging.cc:54] Connection has been released. Continuing.\u001b[0m\n",
      "\u001b[31m2018-08-06 19:31:28.473930: I tensorflow/core/platform/s3/aws_logging.cc:54] Connection has been released. Continuing.\u001b[0m\n",
      "\u001b[31m2018-08-06 19:31:28.480877: I tensorflow/core/platform/s3/aws_logging.cc:54] Connection has been released. Continuing.\u001b[0m\n",
      "\u001b[31m2018-08-06 19:31:28.489375: I tensorflow/core/platform/s3/aws_logging.cc:54] Connection has been released. Continuing.\u001b[0m\n",
      "\u001b[31m2018-08-06 19:31:28.495516: I tensorflow/core/platform/s3/aws_logging.cc:54] Connection has been released. Continuing.\u001b[0m\n",
      "\u001b[31m2018-08-06 19:31:28.503890: I tensorflow/core/platform/s3/aws_logging.cc:54] Connection has been released. Continuing.\u001b[0m\n",
      "\u001b[31m2018-08-06 19:31:28.515174: I tensorflow/core/platform/s3/aws_logging.cc:54] Connection has been released. Continuing.\u001b[0m\n",
      "\u001b[31m2018-08-06 19:31:28.525223: I tensorflow/core/platform/s3/aws_logging.cc:54] Connection has been released. Continuing.\u001b[0m\n",
      "\u001b[31m2018-08-06 19:31:28.533314: I tensorflow/core/platform/s3/aws_logging.cc:54] Connection has been released. Continuing.\u001b[0m\n",
      "\u001b[31m2018-08-06 19:31:28.542239: I tensorflow/core/platform/s3/aws_logging.cc:54] Connection has been released. Continuing.\u001b[0m\n",
      "\u001b[31m2018-08-06 19:31:28.558604: I tensorflow/core/platform/s3/aws_logging.cc:54] Connection has been released. Continuing.\u001b[0m\n",
      "\u001b[31m2018-08-06 19:31:28.703755: I tensorflow/core/platform/s3/aws_logging.cc:54] Connection has been released. Continuing.\u001b[0m\n",
      "\u001b[31m2018-08-06 19:31:28.724038: I tensorflow/core/platform/s3/aws_logging.cc:54] Connection has been released. Continuing.\u001b[0m\n",
      "\u001b[31m2018-08-06 19:31:28.731311: E tensorflow/core/platform/s3/aws_logging.cc:60] No response body. Response code: 404\u001b[0m\n",
      "\u001b[31m2018-08-06 19:31:28.731345: W tensorflow/core/platform/s3/aws_logging.cc:57] If the signature check failed. This could be because of a time skew. Attempting to adjust the signer.\u001b[0m\n",
      "\u001b[31m2018-08-06 19:31:28.731450: I tensorflow/core/platform/s3/aws_logging.cc:54] Connection has been released. Continuing.\u001b[0m\n",
      "\u001b[31m2018-08-06 19:31:28.741926: I tensorflow/core/platform/s3/aws_logging.cc:54] Connection has been released. Continuing.\u001b[0m\n",
      "\u001b[31m2018-08-06 19:31:28.800218: E tensorflow/core/platform/s3/aws_logging.cc:60] No response body. Response code: 404\u001b[0m\n",
      "\u001b[31m2018-08-06 19:31:28.800270: W tensorflow/core/platform/s3/aws_logging.cc:57] If the signature check failed. This could be because of a time skew. Attempting to adjust the signer.\u001b[0m\n",
      "\u001b[31m2018-08-06 19:31:28.800430: I tensorflow/core/platform/s3/aws_logging.cc:54] Connection has been released. Continuing.\u001b[0m\n",
      "\u001b[31m2018-08-06 19:31:28.809090: I tensorflow/core/platform/s3/aws_logging.cc:54] Connection has been released. Continuing.\u001b[0m\n",
      "\u001b[31m2018-08-06 19:31:28.817404: E tensorflow/core/platform/s3/aws_logging.cc:60] No response body. Response code: 404\u001b[0m\n",
      "\u001b[31m2018-08-06 19:31:28.817438: W tensorflow/core/platform/s3/aws_logging.cc:57] If the signature check failed. This could be because of a time skew. Attempting to adjust the signer.\u001b[0m\n",
      "\u001b[31m2018-08-06 19:31:28.817544: I tensorflow/core/platform/s3/aws_logging.cc:54] Connection has been released. Continuing.\u001b[0m\n",
      "\u001b[31m2018-08-06 19:31:28.828394: I tensorflow/core/platform/s3/aws_logging.cc:54] Connection has been released. Continuing.\u001b[0m\n",
      "\u001b[31m2018-08-06 19:31:28.837970: E tensorflow/core/platform/s3/aws_logging.cc:60] No response body. Response code: 404\u001b[0m\n",
      "\u001b[31m2018-08-06 19:31:28.838022: W tensorflow/core/platform/s3/aws_logging.cc:57] If the signature check failed. This could be because of a time skew. Attempting to adjust the signer.\u001b[0m\n",
      "\u001b[31m2018-08-06 19:31:28.838279: I tensorflow/core/platform/s3/aws_logging.cc:54] Connection has been released. Continuing.\u001b[0m\n",
      "\u001b[31m2018-08-06 19:31:28.849084: I tensorflow/core/platform/s3/aws_logging.cc:54] Connection has been released. Continuing.\u001b[0m\n",
      "\u001b[31m2018-08-06 19:31:28.857070: E tensorflow/core/platform/s3/aws_logging.cc:60] No response body. Response code: 404\u001b[0m\n",
      "\u001b[31m2018-08-06 19:31:28.857104: W tensorflow/core/platform/s3/aws_logging.cc:57] If the signature check failed. This could be because of a time skew. Attempting to adjust the signer.\u001b[0m\n",
      "\u001b[31m2018-08-06 19:31:28.857204: I tensorflow/core/platform/s3/aws_logging.cc:54] Connection has been released. Continuing.\u001b[0m\n",
      "\u001b[31m2018-08-06 19:31:28.878045: I tensorflow/core/platform/s3/aws_logging.cc:54] Connection has been released. Continuing.\u001b[0m\n",
      "\u001b[31m2018-08-06 19:31:28.895259: I tensorflow/core/platform/s3/aws_logging.cc:54] Deleting file: /tmp/s3_filesystem_XXXXXX20180806T1931281533583888877\u001b[0m\n",
      "\u001b[31m2018-08-06 19:31:28.895415: I tensorflow/core/platform/s3/aws_logging.cc:54] Connection has been released. Continuing.\u001b[0m\n",
      "\u001b[31m2018-08-06 19:31:28.905352: I tensorflow/core/platform/s3/aws_logging.cc:54] Deleting file: /tmp/s3_filesystem_XXXXXX20180806T1931281533583888895\u001b[0m\n",
      "\u001b[31m2018-08-06 19:31:28.905529: I tensorflow/core/platform/s3/aws_logging.cc:54] Connection has been released. Continuing.\u001b[0m\n",
      "\u001b[31m2018-08-06 19:31:28.914560: I tensorflow/core/platform/s3/aws_logging.cc:54] Deleting file: /tmp/s3_filesystem_XXXXXX20180806T1931281533583888905\u001b[0m\n",
      "\u001b[31m2018-08-06 19:31:28,914 INFO - tensorflow - Assets added to graph.\u001b[0m\n",
      "\u001b[31m2018-08-06 19:31:28,914 INFO - tensorflow - No assets to write.\u001b[0m\n",
      "\u001b[31m2018-08-06 19:31:28.915009: I tensorflow/core/platform/s3/aws_logging.cc:54] Connection has been released. Continuing.\u001b[0m\n",
      "\u001b[31m2018-08-06 19:31:28.921236: E tensorflow/core/platform/s3/aws_logging.cc:60] No response body. Response code: 404\u001b[0m\n",
      "\u001b[31m2018-08-06 19:31:28.921270: W tensorflow/core/platform/s3/aws_logging.cc:57] If the signature check failed. This could be because of a time skew. Attempting to adjust the signer.\u001b[0m\n",
      "\u001b[31m2018-08-06 19:31:28.921373: I tensorflow/core/platform/s3/aws_logging.cc:54] Connection has been released. Continuing.\u001b[0m\n",
      "\u001b[31m2018-08-06 19:31:28.931756: I tensorflow/core/platform/s3/aws_logging.cc:54] Connection has been released. Continuing.\u001b[0m\n",
      "\u001b[31m2018-08-06 19:31:28.940362: E tensorflow/core/platform/s3/aws_logging.cc:60] No response body. Response code: 404\u001b[0m\n",
      "\u001b[31m2018-08-06 19:31:28.940396: W tensorflow/core/platform/s3/aws_logging.cc:57] If the signature check failed. This could be because of a time skew. Attempting to adjust the signer.\u001b[0m\n",
      "\u001b[31m2018-08-06 19:31:28.940538: I tensorflow/core/platform/s3/aws_logging.cc:54] Connection has been released. Continuing.\u001b[0m\n",
      "\u001b[31m2018-08-06 19:31:28.951393: I tensorflow/core/platform/s3/aws_logging.cc:54] Connection has been released. Continuing.\u001b[0m\n",
      "\u001b[31m2018-08-06 19:31:28.957020: E tensorflow/core/platform/s3/aws_logging.cc:60] No response body. Response code: 404\u001b[0m\n",
      "\u001b[31m2018-08-06 19:31:28.957072: W tensorflow/core/platform/s3/aws_logging.cc:57] If the signature check failed. This could be because of a time skew. Attempting to adjust the signer.\u001b[0m\n",
      "\u001b[31m2018-08-06 19:31:28.957331: I tensorflow/core/platform/s3/aws_logging.cc:54] Connection has been released. Continuing.\u001b[0m\n",
      "\u001b[31m2018-08-06 19:31:28.970006: I tensorflow/core/platform/s3/aws_logging.cc:54] Connection has been released. Continuing.\u001b[0m\n",
      "\u001b[31m2018-08-06 19:31:28.979679: I tensorflow/core/platform/s3/aws_logging.cc:54] Deleting file: /tmp/s3_filesystem_XXXXXX20180806T1931281533583888969\u001b[0m\n",
      "\u001b[31m2018-08-06 19:31:29.001606: I tensorflow/core/platform/s3/aws_logging.cc:54] Connection has been released. Continuing.\u001b[0m\n",
      "\u001b[31m2018-08-06 19:31:29.010846: I tensorflow/core/platform/s3/aws_logging.cc:54] Deleting file: /tmp/s3_filesystem_XXXXXX20180806T1931291533583889001\u001b[0m\n",
      "\u001b[31m2018-08-06 19:31:29.022899: I tensorflow/core/platform/s3/aws_logging.cc:54] Connection has been released. Continuing.\u001b[0m\n",
      "\u001b[31m2018-08-06 19:31:29.223741: I tensorflow/core/platform/s3/aws_logging.cc:54] Deleting file: /tmp/s3_filesystem_XXXXXX20180806T1931291533583889010\u001b[0m\n",
      "\u001b[31m2018-08-06 19:31:29.225720: I tensorflow/core/platform/s3/aws_logging.cc:54] Connection has been released. Continuing.\u001b[0m\n",
      "\u001b[31m2018-08-06 19:31:29.237771: I tensorflow/core/platform/s3/aws_logging.cc:54] Connection has been released. Continuing.\u001b[0m\n",
      "\u001b[31m2018-08-06 19:31:30.162895: I tensorflow/core/platform/s3/aws_logging.cc:54] Connection has been released. Continuing.\u001b[0m\n",
      "\u001b[31m2018-08-06 19:31:30.178838: I tensorflow/core/platform/s3/aws_logging.cc:54] Connection has been released. Continuing.\u001b[0m\n",
      "\u001b[31m2018-08-06 19:31:30.216827: I tensorflow/core/platform/s3/aws_logging.cc:54] Deleting file: /tmp/s3_filesystem_XXXXXX20180806T1931301533583890178\u001b[0m\n",
      "\u001b[31m2018-08-06 19:31:30.217142: I tensorflow/core/platform/s3/aws_logging.cc:54] Connection has been released. Continuing.\u001b[0m\n",
      "\u001b[31m2018-08-06 19:31:30.229219: I tensorflow/core/platform/s3/aws_logging.cc:54] Connection has been released. Continuing.\u001b[0m\n",
      "\u001b[31m2018-08-06 19:31:30.251779: I tensorflow/core/platform/s3/aws_logging.cc:54] Connection has been released. Continuing.\u001b[0m\n",
      "\u001b[31m2018-08-06 19:31:30.260491: I tensorflow/core/platform/s3/aws_logging.cc:54] Connection has been released. Continuing.\u001b[0m\n",
      "\u001b[31m2018-08-06 19:31:30.271762: I tensorflow/core/platform/s3/aws_logging.cc:54] Deleting file: /tmp/s3_filesystem_XXXXXX20180806T1931301533583890260\u001b[0m\n",
      "\u001b[31m2018-08-06 19:31:30.271906: I tensorflow/core/platform/s3/aws_logging.cc:54] Connection has been released. Continuing.\u001b[0m\n",
      "\u001b[31m2018-08-06 19:31:30.280132: I tensorflow/core/platform/s3/aws_logging.cc:54] Connection has been released. Continuing.\u001b[0m\n",
      "\u001b[31m2018-08-06 19:31:30.289310: I tensorflow/core/platform/s3/aws_logging.cc:54] Connection has been released. Continuing.\u001b[0m\n",
      "\u001b[31m2018-08-06 19:31:30.299234: I tensorflow/core/platform/s3/aws_logging.cc:54] Connection has been released. Continuing.\u001b[0m\n",
      "\u001b[31m2018-08-06 19:31:30.307335: I tensorflow/core/platform/s3/aws_logging.cc:54] Connection has been released. Continuing.\u001b[0m\n",
      "\u001b[31m2018-08-06 19:31:30.318592: I tensorflow/core/platform/s3/aws_logging.cc:54] Connection has been released. Continuing.\u001b[0m\n",
      "\u001b[31m2018-08-06 19:31:30.328164: I tensorflow/core/platform/s3/aws_logging.cc:54] Connection has been released. Continuing.\u001b[0m\n",
      "\u001b[31m2018-08-06 19:31:30.989290: I tensorflow/core/platform/s3/aws_logging.cc:54] Connection has been released. Continuing.\u001b[0m\n",
      "\u001b[31m2018-08-06 19:31:30.998277: I tensorflow/core/platform/s3/aws_logging.cc:54] Connection has been released. Continuing.\u001b[0m\n",
      "\u001b[31m2018-08-06 19:31:31.011294: I tensorflow/core/platform/s3/aws_logging.cc:54] Deleting file: /tmp/s3_filesystem_XXXXXX20180806T1931301533583890998\u001b[0m\n",
      "\u001b[31m2018-08-06 19:31:31.011463: I tensorflow/core/platform/s3/aws_logging.cc:54] Connection has been released. Continuing.\u001b[0m\n",
      "\u001b[31m2018-08-06 19:31:31.018667: I tensorflow/core/platform/s3/aws_logging.cc:54] Connection has been released. Continuing.\u001b[0m\n",
      "\u001b[31m2018-08-06 19:31:31.029934: I tensorflow/core/platform/s3/aws_logging.cc:54] Connection has been released. Continuing.\u001b[0m\n",
      "\u001b[31m2018-08-06 19:31:31.062550: I tensorflow/core/platform/s3/aws_logging.cc:54] Connection has been released. Continuing.\u001b[0m\n",
      "\u001b[31m2018-08-06 19:31:31.069579: E tensorflow/core/platform/s3/aws_logging.cc:60] No response body. Response code: 404\u001b[0m\n",
      "\u001b[31m2018-08-06 19:31:31.069601: W tensorflow/core/platform/s3/aws_logging.cc:57] If the signature check failed. This could be because of a time skew. Attempting to adjust the signer.\u001b[0m\n",
      "\u001b[31m2018-08-06 19:31:31.069700: I tensorflow/core/platform/s3/aws_logging.cc:54] Connection has been released. Continuing.\u001b[0m\n",
      "\u001b[31m2018-08-06 19:31:31.081157: I tensorflow/core/platform/s3/aws_logging.cc:54] Connection has been released. Continuing.\u001b[0m\n",
      "\u001b[31m2018-08-06 19:31:31.102641: I tensorflow/core/platform/s3/aws_logging.cc:54] Deleting file: /tmp/s3_filesystem_XXXXXX20180806T1931311533583891080\u001b[0m\n",
      "\u001b[31m2018-08-06 19:31:31,102 INFO - tensorflow - SavedModel written to: s3://sagemaker-us-west-2-500842391574/sagemaker-tensorflow-2018-08-06-19-28-38-601/checkpoints/export/Servo/temp-1533583888/saved_model.pb\u001b[0m\n",
      "\u001b[31m2018-08-06 19:31:31.102983: I tensorflow/core/platform/s3/aws_logging.cc:54] Connection has been released. Continuing.\u001b[0m\n",
      "\u001b[31m2018-08-06 19:31:31.109366: E tensorflow/core/platform/s3/aws_logging.cc:60] No response body. Response code: 404\u001b[0m\n",
      "\u001b[31m2018-08-06 19:31:31.109388: W tensorflow/core/platform/s3/aws_logging.cc:57] If the signature check failed. This could be because of a time skew. Attempting to adjust the signer.\u001b[0m\n",
      "\u001b[31m2018-08-06 19:31:31.109485: I tensorflow/core/platform/s3/aws_logging.cc:54] Connection has been released. Continuing.\u001b[0m\n",
      "\u001b[31m2018-08-06 19:31:31.119226: I tensorflow/core/platform/s3/aws_logging.cc:54] Connection has been released. Continuing.\u001b[0m\n",
      "\u001b[31m2018-08-06 19:31:31.131409: I tensorflow/core/platform/s3/aws_logging.cc:54] Connection has been released. Continuing.\u001b[0m\n",
      "\u001b[31m2018-08-06 19:31:31.145266: I tensorflow/core/platform/s3/aws_logging.cc:54] Connection has been released. Continuing.\u001b[0m\n",
      "\u001b[31m2018-08-06 19:31:31.152725: I tensorflow/core/platform/s3/aws_logging.cc:54] Connection has been released. Continuing.\u001b[0m\n",
      "\u001b[31m2018-08-06 19:31:31.180227: I tensorflow/core/platform/s3/aws_logging.cc:54] Connection has been released. Continuing.\u001b[0m\n",
      "\u001b[31m2018-08-06 19:31:31.189798: I tensorflow/core/platform/s3/aws_logging.cc:54] Connection has been released. Continuing.\u001b[0m\n",
      "\u001b[31m2018-08-06 19:31:31.202447: I tensorflow/core/platform/s3/aws_logging.cc:54] Connection has been released. Continuing.\u001b[0m\n",
      "\u001b[31m2018-08-06 19:31:31.209904: I tensorflow/core/platform/s3/aws_logging.cc:54] Connection has been released. Continuing.\u001b[0m\n",
      "\u001b[31m2018-08-06 19:31:31.622378: I tensorflow/core/platform/s3/aws_logging.cc:54] Connection has been released. Continuing.\u001b[0m\n",
      "\u001b[31m2018-08-06 19:31:31.631888: I tensorflow/core/platform/s3/aws_logging.cc:54] Connection has been released. Continuing.\u001b[0m\n",
      "\u001b[31m2018-08-06 19:31:31.681019: I tensorflow/core/platform/s3/aws_logging.cc:54] Connection has been released. Continuing.\u001b[0m\n",
      "\u001b[31m2018-08-06 19:31:31.693377: I tensorflow/core/platform/s3/aws_logging.cc:54] Connection has been released. Continuing.\u001b[0m\n",
      "\u001b[31m2018-08-06 19:31:31.699543: E tensorflow/core/platform/s3/aws_logging.cc:60] No response body. Response code: 404\u001b[0m\n",
      "\u001b[31m2018-08-06 19:31:31.699569: W tensorflow/core/platform/s3/aws_logging.cc:57] If the signature check failed. This could be because of a time skew. Attempting to adjust the signer.\u001b[0m\n",
      "\u001b[31m2018-08-06 19:31:31.699675: I tensorflow/core/platform/s3/aws_logging.cc:54] Connection has been released. Continuing.\u001b[0m\n",
      "\u001b[31m2018-08-06 19:31:31.711495: I tensorflow/core/platform/s3/aws_logging.cc:54] Connection has been released. Continuing.\u001b[0m\n",
      "\u001b[31m2018-08-06 19:31:31.717880: E tensorflow/core/platform/s3/aws_logging.cc:60] No response body. Response code: 404\u001b[0m\n",
      "\u001b[31m2018-08-06 19:31:31.717933: W tensorflow/core/platform/s3/aws_logging.cc:57] If the signature check failed. This could be because of a time skew. Attempting to adjust the signer.\u001b[0m\n",
      "\u001b[31m2018-08-06 19:31:31.718115: I tensorflow/core/platform/s3/aws_logging.cc:54] Connection has been released. Continuing.\u001b[0m\n",
      "\u001b[31m2018-08-06 19:31:31.730355: I tensorflow/core/platform/s3/aws_logging.cc:54] Connection has been released. Continuing.\u001b[0m\n",
      "\u001b[31m2018-08-06 19:31:31,744 INFO - tensorflow - loss = 2.3117852, step = 0\u001b[0m\n",
      "\u001b[32m2018-08-06 19:31:33,506 INFO - tensorflow - loss = 0.08100207, step = 116 (9.543 sec)\u001b[0m\n"
     ]
    },
    {
     "name": "stdout",
     "output_type": "stream",
     "text": [
      "\u001b[31m2018-08-06 19:31:37,075 INFO - tensorflow - global_step/sec: 19.502\u001b[0m\n",
      "\u001b[31m2018-08-06 19:31:41,736 INFO - tensorflow - loss = 0.012871624, step = 279 (9.992 sec)\u001b[0m\n",
      "\u001b[31m2018-08-06 19:31:42,202 INFO - tensorflow - global_step/sec: 19.8933\u001b[0m\n",
      "\u001b[32m2018-08-06 19:31:43,835 INFO - tensorflow - loss = 0.052729886, step = 322 (10.330 sec)\u001b[0m\n",
      "\u001b[31m2018-08-06 19:31:47,143 INFO - tensorflow - global_step/sec: 20.2392\u001b[0m\n",
      "\u001b[31m2018-08-06 19:31:51,180 INFO - tensorflow - loss = 0.030013792, step = 471 (9.443 sec)\u001b[0m\n",
      "\u001b[31m2018-08-06 19:31:52,145 INFO - tensorflow - global_step/sec: 20.1922\u001b[0m\n",
      "\u001b[32m2018-08-06 19:31:54,189 INFO - tensorflow - loss = 0.0373847, step = 532 (10.354 sec)\u001b[0m\n",
      "\u001b[31m2018-08-06 19:31:57,117 INFO - tensorflow - global_step/sec: 20.316\u001b[0m\n",
      "\u001b[31m2018-08-06 19:32:00,516 INFO - tensorflow - loss = 0.038077734, step = 659 (9.336 sec)\u001b[0m\n",
      "\u001b[31m2018-08-06 19:32:02,171 INFO - tensorflow - global_step/sec: 19.9844\u001b[0m\n",
      "\u001b[32m2018-08-06 19:32:04,825 INFO - tensorflow - loss = 0.06467671, step = 746 (10.636 sec)\u001b[0m\n",
      "\u001b[31m2018-08-06 19:32:07,145 INFO - tensorflow - global_step/sec: 20.3057\u001b[0m\n",
      "\u001b[31m2018-08-06 19:32:09,929 INFO - tensorflow - loss = 0.032083694, step = 848 (9.414 sec)\u001b[0m\n",
      "\u001b[31m2018-08-06 19:32:12,261 INFO - tensorflow - global_step/sec: 19.935\u001b[0m\n",
      "\u001b[32m2018-08-06 19:32:15,339 INFO - tensorflow - loss = 0.0064483373, step = 958 (10.514 sec)\u001b[0m\n",
      "\u001b[32m2018-08-06 19:32:17.344109: I tensorflow/core/platform/s3/aws_logging.cc:54] Connection has been released. Continuing.\u001b[0m\n",
      "\u001b[32m2018-08-06 19:32:17,378 INFO - tensorflow - Loss for final step: 0.026908407.\u001b[0m\n",
      "\u001b[32m2018-08-06 19:32:17.457161: I tensorflow/core/platform/s3/aws_logging.cc:54] Deleting file: /tmp/s3_filesystem_XXXXXX20180806T1932171533583937343\u001b[0m\n",
      "\u001b[32m2018-08-06 19:32:17.491011: I tensorflow/core/platform/s3/aws_logging.cc:54] Connection has been released. Continuing.\u001b[0m\n",
      "\u001b[32m2018-08-06 19:32:18.134431: I tensorflow/core/platform/s3/aws_logging.cc:54] Deleting file: /tmp/s3_filesystem_XXXXXX20180806T1932171533583937457\u001b[0m\n",
      "\u001b[32m2018-08-06 19:32:18.140195: I tensorflow/core/platform/s3/aws_logging.cc:54] Connection has been released. Continuing.\u001b[0m\n",
      "\u001b[32m2018-08-06 19:32:18.154090: I tensorflow/core/platform/s3/aws_logging.cc:54] Connection has been released. Continuing.\u001b[0m\n",
      "\u001b[32m2018-08-06 19:32:18.768597: I tensorflow/core/platform/s3/aws_logging.cc:54] Connection has been released. Continuing.\u001b[0m\n",
      "\u001b[32m2018-08-06 19:32:18.778112: I tensorflow/core/platform/s3/aws_logging.cc:54] Connection has been released. Continuing.\u001b[0m\n",
      "\u001b[32m2018-08-06 19:32:18.794548: I tensorflow/core/platform/s3/aws_logging.cc:54] Deleting file: /tmp/s3_filesystem_XXXXXX20180806T1932181533583938777\u001b[0m\n",
      "\u001b[32m2018-08-06 19:32:18.794730: I tensorflow/core/platform/s3/aws_logging.cc:54] Connection has been released. Continuing.\u001b[0m\n",
      "\u001b[32m2018-08-06 19:32:18.806886: I tensorflow/core/platform/s3/aws_logging.cc:54] Connection has been released. Continuing.\u001b[0m\n",
      "\u001b[32m2018-08-06 19:32:18.840819: I tensorflow/core/platform/s3/aws_logging.cc:54] Connection has been released. Continuing.\u001b[0m\n",
      "\u001b[32m2018-08-06 19:32:18.851738: I tensorflow/core/platform/s3/aws_logging.cc:54] Connection has been released. Continuing.\u001b[0m\n",
      "\u001b[32m2018-08-06 19:32:18.865300: I tensorflow/core/platform/s3/aws_logging.cc:54] Deleting file: /tmp/s3_filesystem_XXXXXX20180806T1932181533583938851\u001b[0m\n",
      "\u001b[32m2018-08-06 19:32:18.865460: I tensorflow/core/platform/s3/aws_logging.cc:54] Connection has been released. Continuing.\u001b[0m\n",
      "\u001b[32m2018-08-06 19:32:18.875506: I tensorflow/core/platform/s3/aws_logging.cc:54] Connection has been released. Continuing.\u001b[0m\n",
      "\u001b[32m2018-08-06 19:32:18.885784: I tensorflow/core/platform/s3/aws_logging.cc:54] Connection has been released. Continuing.\u001b[0m\n",
      "\u001b[32m2018-08-06 19:32:18.901302: I tensorflow/core/platform/s3/aws_logging.cc:54] Connection has been released. Continuing.\u001b[0m\n",
      "\u001b[32m2018-08-06 19:32:18.913920: I tensorflow/core/platform/s3/aws_logging.cc:54] Connection has been released. Continuing.\u001b[0m\n",
      "\u001b[32m2018-08-06 19:32:18.926018: I tensorflow/core/platform/s3/aws_logging.cc:54] Connection has been released. Continuing.\u001b[0m\n",
      "\u001b[32m2018-08-06 19:32:18.934970: I tensorflow/core/platform/s3/aws_logging.cc:54] Connection has been released. Continuing.\u001b[0m\n",
      "\u001b[32m2018-08-06 19:32:18.945858: I tensorflow/core/platform/s3/aws_logging.cc:54] Connection has been released. Continuing.\u001b[0m\n",
      "\u001b[32m2018-08-06 19:32:18.953648: I tensorflow/core/platform/s3/aws_logging.cc:54] Connection has been released. Continuing.\u001b[0m\n",
      "\u001b[32m2018-08-06 19:32:18.966356: I tensorflow/core/platform/s3/aws_logging.cc:54] Connection has been released. Continuing.\u001b[0m\n",
      "\u001b[32m2018-08-06 19:32:18.976989: I tensorflow/core/platform/s3/aws_logging.cc:54] Connection has been released. Continuing.\u001b[0m\n",
      "\u001b[32m2018-08-06 19:32:18.989844: I tensorflow/core/platform/s3/aws_logging.cc:54] Connection has been released. Continuing.\u001b[0m\n",
      "\u001b[31m2018-08-06 19:32:17,160 INFO - tensorflow - global_step/sec: 20.6194\u001b[0m\n",
      "\u001b[31m2018-08-06 19:32:17,345 INFO - tensorflow - Saving checkpoints for 1002 into s3://sagemaker-us-west-2-500842391574/sagemaker-tensorflow-2018-08-06-19-28-38-601/checkpoints/model.ckpt.\u001b[0m\n",
      "\u001b[31m2018-08-06 19:32:17.347057: I tensorflow/core/platform/s3/aws_logging.cc:54] Connection has been released. Continuing.\u001b[0m\n",
      "\u001b[31m2018-08-06 19:32:17.401932: I tensorflow/core/platform/s3/aws_logging.cc:54] Deleting file: /tmp/s3_filesystem_XXXXXX20180806T1932171533583937346\u001b[0m\n",
      "\u001b[31m2018-08-06 19:32:17.405132: I tensorflow/core/platform/s3/aws_logging.cc:54] Connection has been released. Continuing.\u001b[0m\n",
      "\u001b[31m2018-08-06 19:32:17.464308: I tensorflow/core/platform/s3/aws_logging.cc:54] Deleting file: /tmp/s3_filesystem_XXXXXX20180806T1932171533583937401\u001b[0m\n",
      "\u001b[31m2018-08-06 19:32:17.464484: I tensorflow/core/platform/s3/aws_logging.cc:54] Connection has been released. Continuing.\u001b[0m\n",
      "\u001b[31m2018-08-06 19:32:17.477147: I tensorflow/core/platform/s3/aws_logging.cc:54] Connection has been released. Continuing.\u001b[0m\n",
      "\u001b[31m2018-08-06 19:32:17.503901: I tensorflow/core/platform/s3/aws_logging.cc:54] Connection has been released. Continuing.\u001b[0m\n",
      "\u001b[31m2018-08-06 19:32:17.513848: I tensorflow/core/platform/s3/aws_logging.cc:54] Connection has been released. Continuing.\u001b[0m\n",
      "\u001b[31m2018-08-06 19:32:17.574028: I tensorflow/core/platform/s3/aws_logging.cc:54] Deleting file: /tmp/s3_filesystem_XXXXXX20180806T1932171533583937513\u001b[0m\n",
      "\u001b[31m2018-08-06 19:32:17.574215: I tensorflow/core/platform/s3/aws_logging.cc:54] Connection has been released. Continuing.\u001b[0m\n",
      "\u001b[31m2018-08-06 19:32:17.592406: I tensorflow/core/platform/s3/aws_logging.cc:54] Connection has been released. Continuing.\u001b[0m\n",
      "\u001b[31m2018-08-06 19:32:17.625221: I tensorflow/core/platform/s3/aws_logging.cc:54] Connection has been released. Continuing.\u001b[0m\n",
      "\u001b[32m2018-08-06 19:32:20.027848: I tensorflow/core/platform/s3/aws_logging.cc:54] Connection has been released. Continuing.\u001b[0m\n",
      "\u001b[32m2018-08-06 19:32:20.038336: I tensorflow/core/platform/s3/aws_logging.cc:54] Connection has been released. Continuing.\u001b[0m\n",
      "\u001b[32m2018-08-06 19:32:20.051136: I tensorflow/core/platform/s3/aws_logging.cc:54] Connection has been released. Continuing.\u001b[0m\n",
      "\u001b[32m2018-08-06 19:32:20.119328: I tensorflow/core/platform/s3/aws_logging.cc:54] Connection has been released. Continuing.\u001b[0m\n",
      "\u001b[32m2018-08-06 19:32:20.133132: I tensorflow/core/platform/s3/aws_logging.cc:54] Connection has been released. Continuing.\u001b[0m\n",
      "\u001b[32m2018-08-06 19:32:20.164788: I tensorflow/core/platform/s3/aws_logging.cc:54] Deleting file: /tmp/s3_filesystem_XXXXXX20180806T1932201533583940132\u001b[0m\n",
      "\u001b[32m2018-08-06 19:32:20.164984: I tensorflow/core/platform/s3/aws_logging.cc:54] Connection has been released. Continuing.\u001b[0m\n",
      "\u001b[32m2018-08-06 19:32:20.176504: I tensorflow/core/platform/s3/aws_logging.cc:54] Connection has been released. Continuing.\u001b[0m\n",
      "\u001b[32m2018-08-06 19:32:20.185830: I tensorflow/core/platform/s3/aws_logging.cc:54] Connection has been released. Continuing.\u001b[0m\n",
      "\u001b[32m2018-08-06 19:32:20.198325: I tensorflow/core/platform/s3/aws_logging.cc:54] Connection has been released. Continuing.\u001b[0m\n",
      "\u001b[32m2018-08-06 19:32:20.209848: I tensorflow/core/platform/s3/aws_logging.cc:54] Connection has been released. Continuing.\u001b[0m\n",
      "\u001b[31m2018-08-06 19:32:20.230761: I tensorflow/core/platform/s3/aws_logging.cc:54] Connection has been released. Continuing.\u001b[0m\n",
      "\u001b[31m2018-08-06 19:32:20.279878: I tensorflow/core/platform/s3/aws_logging.cc:54] Deleting file: /tmp/s3_filesystem_XXXXXX20180806T1932201533583940230\u001b[0m\n",
      "\u001b[31m2018-08-06 19:32:20.280200: I tensorflow/core/platform/s3/aws_logging.cc:54] Connection has been released. Continuing.\u001b[0m\n",
      "\u001b[31m2018-08-06 19:32:20.290865: I tensorflow/core/platform/s3/aws_logging.cc:54] Connection has been released. Continuing.\u001b[0m\n",
      "\u001b[31m2018-08-06 19:32:20.349003: I tensorflow/core/platform/s3/aws_logging.cc:54] Connection has been released. Continuing.\u001b[0m\n",
      "\u001b[31m2018-08-06 19:32:20.384560: I tensorflow/core/platform/s3/aws_logging.cc:54] Connection has been released. Continuing.\u001b[0m\n",
      "\u001b[31m2018-08-06 19:32:20.390086: E tensorflow/core/platform/s3/aws_logging.cc:60] No response body. Response code: 404\u001b[0m\n",
      "\u001b[31m2018-08-06 19:32:20.390109: W tensorflow/core/platform/s3/aws_logging.cc:57] If the signature check failed. This could be because of a time skew. Attempting to adjust the signer.\u001b[0m\n",
      "\u001b[31m2018-08-06 19:32:20.390210: I tensorflow/core/platform/s3/aws_logging.cc:54] Connection has been released. Continuing.\u001b[0m\n",
      "\u001b[31m2018-08-06 19:32:20.409365: I tensorflow/core/platform/s3/aws_logging.cc:54] Connection has been released. Continuing.\u001b[0m\n",
      "\u001b[31m2018-08-06 19:32:20.538908: I tensorflow/core/platform/s3/aws_logging.cc:54] Deleting file: /tmp/s3_filesystem_XXXXXX20180806T1932201533583940409\u001b[0m\n",
      "\u001b[31m2018-08-06 19:32:20.539113: I tensorflow/core/platform/s3/aws_logging.cc:54] Connection has been released. Continuing.\u001b[0m\n",
      "\u001b[31m2018-08-06 19:32:20.551234: I tensorflow/core/platform/s3/aws_logging.cc:54] Connection has been released. Continuing.\u001b[0m\n",
      "\u001b[31m2018-08-06 19:32:20.655765: I tensorflow/core/platform/s3/aws_logging.cc:54] Connection has been released. Continuing.\u001b[0m\n",
      "\u001b[31m2018-08-06 19:32:20,669 INFO - tensorflow - Skip the current checkpoint eval due to throttle secs (600 secs).\u001b[0m\n",
      "\u001b[31m2018-08-06 19:32:20.670045: I tensorflow/core/platform/s3/aws_logging.cc:54] Connection has been released. Continuing.\u001b[0m\n",
      "\u001b[31m2018-08-06 19:32:20.799626: I tensorflow/core/platform/s3/aws_logging.cc:54] Connection has been released. Continuing.\u001b[0m\n",
      "\u001b[31m2018-08-06 19:32:20.807076: I tensorflow/core/platform/s3/aws_logging.cc:54] Connection has been released. Continuing.\u001b[0m\n",
      "\u001b[31m2018-08-06 19:32:20,845 INFO - tensorflow - Loss for final step: 0.013434536.\u001b[0m\n",
      "\u001b[31m2018-08-06 19:32:20,845 INFO - tensorflow - Training has already ended. But the last eval is skipped due to eval throttle_secs. Now evaluating the final checkpoint.\u001b[0m\n",
      "\u001b[31m2018-08-06 19:32:20.846092: I tensorflow/core/platform/s3/aws_logging.cc:54] Connection has been released. Continuing.\u001b[0m\n",
      "\u001b[31m2018-08-06 19:32:20.853933: I tensorflow/core/platform/s3/aws_logging.cc:54] Connection has been released. Continuing.\u001b[0m\n",
      "\u001b[31m2018-08-06 19:32:20.862925: I tensorflow/core/platform/s3/aws_logging.cc:54] Connection has been released. Continuing.\u001b[0m\n",
      "\u001b[31m2018-08-06 19:32:20.872613: I tensorflow/core/platform/s3/aws_logging.cc:54] Connection has been released. Continuing.\u001b[0m\n",
      "\u001b[31m2018-08-06 19:32:20.880767: I tensorflow/core/platform/s3/aws_logging.cc:54] Connection has been released. Continuing.\u001b[0m\n",
      "\u001b[31m2018-08-06 19:32:20.890518: I tensorflow/core/platform/s3/aws_logging.cc:54] Connection has been released. Continuing.\u001b[0m\n",
      "\u001b[31m2018-08-06 19:32:20.909960: I tensorflow/core/platform/s3/aws_logging.cc:54] Connection has been released. Continuing.\u001b[0m\n",
      "\u001b[31m2018-08-06 19:32:20.916587: I tensorflow/core/platform/s3/aws_logging.cc:54] Connection has been released. Continuing.\u001b[0m\n",
      "\u001b[31m2018-08-06 19:32:20.927609: I tensorflow/core/platform/s3/aws_logging.cc:54] Connection has been released. Continuing.\u001b[0m\n",
      "\u001b[31m2018-08-06 19:32:20.935118: I tensorflow/core/platform/s3/aws_logging.cc:54] Connection has been released. Continuing.\u001b[0m\n",
      "\u001b[31m2018-08-06 19:32:20,969 INFO - tensorflow - Calling model_fn.\u001b[0m\n",
      "\u001b[31m2018-08-06 19:32:21,154 INFO - tensorflow - Done calling model_fn.\u001b[0m\n",
      "\u001b[31m2018-08-06 19:32:21,171 INFO - tensorflow - Starting evaluation at 2018-08-06-19:32:21\u001b[0m\n",
      "\u001b[31m2018-08-06 19:32:21,243 INFO - tensorflow - Graph was finalized.\u001b[0m\n",
      "\u001b[31m2018-08-06 19:32:21,243 INFO - tensorflow - Restoring parameters from s3://sagemaker-us-west-2-500842391574/sagemaker-tensorflow-2018-08-06-19-28-38-601/checkpoints/model.ckpt-1002\u001b[0m\n",
      "\u001b[31m2018-08-06 19:32:21.256050: I tensorflow/core/platform/s3/aws_logging.cc:54] Connection has been released. Continuing.\u001b[0m\n",
      "\u001b[31m2018-08-06 19:32:21.273640: I tensorflow/core/platform/s3/aws_logging.cc:54] Connection has been released. Continuing.\u001b[0m\n",
      "\u001b[31m2018-08-06 19:32:21.280926: I tensorflow/core/platform/s3/aws_logging.cc:54] Connection has been released. Continuing.\u001b[0m\n",
      "\u001b[31m2018-08-06 19:32:21.289474: I tensorflow/core/platform/s3/aws_logging.cc:54] Connection has been released. Continuing.\u001b[0m\n",
      "\u001b[31m2018-08-06 19:32:21.296372: I tensorflow/core/platform/s3/aws_logging.cc:54] Connection has been released. Continuing.\u001b[0m\n",
      "\u001b[31m2018-08-06 19:32:21.304170: I tensorflow/core/platform/s3/aws_logging.cc:54] Connection has been released. Continuing.\u001b[0m\n",
      "\u001b[31m2018-08-06 19:32:21.310498: I tensorflow/core/platform/s3/aws_logging.cc:54] Connection has been released. Continuing.\u001b[0m\n",
      "\u001b[31m2018-08-06 19:32:21.318615: I tensorflow/core/platform/s3/aws_logging.cc:54] Connection has been released. Continuing.\u001b[0m\n",
      "\u001b[31m2018-08-06 19:32:21.326847: I tensorflow/core/platform/s3/aws_logging.cc:54] Connection has been released. Continuing.\u001b[0m\n",
      "\u001b[31m2018-08-06 19:32:21.334796: I tensorflow/core/platform/s3/aws_logging.cc:54] Connection has been released. Continuing.\u001b[0m\n",
      "\u001b[31m2018-08-06 19:32:21.345039: I tensorflow/core/platform/s3/aws_logging.cc:54] Connection has been released. Continuing.\u001b[0m\n",
      "\u001b[31m2018-08-06 19:32:21.355396: I tensorflow/core/platform/s3/aws_logging.cc:54] Connection has been released. Continuing.\u001b[0m\n",
      "\u001b[31m2018-08-06 19:32:21.387521: I tensorflow/core/platform/s3/aws_logging.cc:54] Connection has been released. Continuing.\u001b[0m\n",
      "\u001b[31m2018-08-06 19:32:21.533296: I tensorflow/core/platform/s3/aws_logging.cc:54] Connection has been released. Continuing.\u001b[0m\n",
      "\u001b[31m2018-08-06 19:32:21,561 INFO - tensorflow - Running local_init_op.\u001b[0m\n",
      "\u001b[31m2018-08-06 19:32:21,570 INFO - tensorflow - Done running local_init_op.\u001b[0m\n",
      "\u001b[31m2018-08-06 19:32:22,025 INFO - tensorflow - Evaluation [10/100]\u001b[0m\n",
      "\u001b[31m2018-08-06 19:32:22,328 INFO - tensorflow - Evaluation [20/100]\u001b[0m\n",
      "\u001b[31m2018-08-06 19:32:22,619 INFO - tensorflow - Evaluation [30/100]\u001b[0m\n",
      "\u001b[31m2018-08-06 19:32:22,921 INFO - tensorflow - Evaluation [40/100]\u001b[0m\n",
      "\u001b[31m2018-08-06 19:32:23,219 INFO - tensorflow - Evaluation [50/100]\u001b[0m\n",
      "\u001b[31m2018-08-06 19:32:23,521 INFO - tensorflow - Evaluation [60/100]\u001b[0m\n",
      "\u001b[31m2018-08-06 19:32:23,821 INFO - tensorflow - Evaluation [70/100]\u001b[0m\n",
      "\u001b[31m2018-08-06 19:32:24,128 INFO - tensorflow - Evaluation [80/100]\u001b[0m\n",
      "\u001b[31m2018-08-06 19:32:24,424 INFO - tensorflow - Evaluation [90/100]\u001b[0m\n",
      "\u001b[31m2018-08-06 19:32:24,722 INFO - tensorflow - Evaluation [100/100]\u001b[0m\n",
      "\u001b[31m2018-08-06 19:32:24,748 INFO - tensorflow - Finished evaluation at 2018-08-06-19:32:24\u001b[0m\n",
      "\u001b[31m2018-08-06 19:32:24,748 INFO - tensorflow - Saving dict for global step 1002: accuracy = 0.989, global_step = 1002, loss = 0.03315612\u001b[0m\n",
      "\u001b[31m2018-08-06 19:32:24.749113: I tensorflow/core/platform/s3/aws_logging.cc:54] Connection has been released. Continuing.\u001b[0m\n",
      "\u001b[31m2018-08-06 19:32:24.830954: I tensorflow/core/platform/s3/aws_logging.cc:54] Connection has been released. Continuing.\u001b[0m\n",
      "\u001b[31m2018-08-06 19:32:24.838315: I tensorflow/core/platform/s3/aws_logging.cc:54] Connection has been released. Continuing.\u001b[0m\n",
      "\u001b[31m2018-08-06 19:32:24,853 INFO - tensorflow - Calling model_fn.\u001b[0m\n",
      "\u001b[31m2018-08-06 19:32:24,913 INFO - tensorflow - Done calling model_fn.\u001b[0m\n",
      "\u001b[31m2018-08-06 19:32:24,914 INFO - tensorflow - Signatures INCLUDED in export for Classify: None\u001b[0m\n",
      "\u001b[31m2018-08-06 19:32:24,914 INFO - tensorflow - Signatures INCLUDED in export for Regress: None\u001b[0m\n",
      "\u001b[31m2018-08-06 19:32:24,914 INFO - tensorflow - Signatures INCLUDED in export for Predict: ['serving_default', 'predictions']\u001b[0m\n",
      "\u001b[31m2018-08-06 19:32:24.915178: I tensorflow/core/platform/s3/aws_logging.cc:54] Connection has been released. Continuing.\u001b[0m\n",
      "\u001b[31m2018-08-06 19:32:24.922145: E tensorflow/core/platform/s3/aws_logging.cc:60] No response body. Response code: 404\u001b[0m\n",
      "\u001b[31m2018-08-06 19:32:24.922168: W tensorflow/core/platform/s3/aws_logging.cc:57] If the signature check failed. This could be because of a time skew. Attempting to adjust the signer.\u001b[0m\n",
      "\u001b[31m2018-08-06 19:32:24.922277: I tensorflow/core/platform/s3/aws_logging.cc:54] Connection has been released. Continuing.\u001b[0m\n",
      "\u001b[31m2018-08-06 19:32:24,946 INFO - tensorflow - Restoring parameters from s3://sagemaker-us-west-2-500842391574/sagemaker-tensorflow-2018-08-06-19-28-38-601/checkpoints/model.ckpt-1002\u001b[0m\n",
      "\u001b[31m2018-08-06 19:32:24.955259: I tensorflow/core/platform/s3/aws_logging.cc:54] Connection has been released. Continuing.\u001b[0m\n",
      "\u001b[31m2018-08-06 19:32:24.974989: I tensorflow/core/platform/s3/aws_logging.cc:54] Connection has been released. Continuing.\u001b[0m\n",
      "\u001b[31m2018-08-06 19:32:24.982438: I tensorflow/core/platform/s3/aws_logging.cc:54] Connection has been released. Continuing.\u001b[0m\n",
      "\u001b[31m2018-08-06 19:32:24.992780: I tensorflow/core/platform/s3/aws_logging.cc:54] Connection has been released. Continuing.\u001b[0m\n",
      "\u001b[31m2018-08-06 19:32:24.999652: I tensorflow/core/platform/s3/aws_logging.cc:54] Connection has been released. Continuing.\u001b[0m\n",
      "\u001b[31m2018-08-06 19:32:25.009364: I tensorflow/core/platform/s3/aws_logging.cc:54] Connection has been released. Continuing.\u001b[0m\n",
      "\u001b[31m2018-08-06 19:32:25.015671: I tensorflow/core/platform/s3/aws_logging.cc:54] Connection has been released. Continuing.\u001b[0m\n",
      "\u001b[31m2018-08-06 19:32:25.022517: I tensorflow/core/platform/s3/aws_logging.cc:54] Connection has been released. Continuing.\u001b[0m\n",
      "\u001b[31m2018-08-06 19:32:25.034168: I tensorflow/core/platform/s3/aws_logging.cc:54] Connection has been released. Continuing.\u001b[0m\n",
      "\u001b[31m2018-08-06 19:32:25.043962: I tensorflow/core/platform/s3/aws_logging.cc:54] Connection has been released. Continuing.\u001b[0m\n",
      "\u001b[31m2018-08-06 19:32:25.054703: I tensorflow/core/platform/s3/aws_logging.cc:54] Connection has been released. Continuing.\u001b[0m\n",
      "\u001b[31m2018-08-06 19:32:25.065074: I tensorflow/core/platform/s3/aws_logging.cc:54] Connection has been released. Continuing.\u001b[0m\n",
      "\u001b[31m2018-08-06 19:32:25.085823: I tensorflow/core/platform/s3/aws_logging.cc:54] Connection has been released. Continuing.\u001b[0m\n",
      "\u001b[31m2018-08-06 19:32:25.230331: I tensorflow/core/platform/s3/aws_logging.cc:54] Connection has been released. Continuing.\u001b[0m\n",
      "\u001b[31m2018-08-06 19:32:25.245055: I tensorflow/core/platform/s3/aws_logging.cc:54] Connection has been released. Continuing.\u001b[0m\n",
      "\u001b[31m2018-08-06 19:32:25.251941: E tensorflow/core/platform/s3/aws_logging.cc:60] No response body. Response code: 404\u001b[0m\n",
      "\u001b[31m2018-08-06 19:32:25.251964: W tensorflow/core/platform/s3/aws_logging.cc:57] If the signature check failed. This could be because of a time skew. Attempting to adjust the signer.\u001b[0m\n",
      "\u001b[31m2018-08-06 19:32:25.252070: I tensorflow/core/platform/s3/aws_logging.cc:54] Connection has been released. Continuing.\u001b[0m\n",
      "\u001b[31m2018-08-06 19:32:25.262688: I tensorflow/core/platform/s3/aws_logging.cc:54] Connection has been released. Continuing.\u001b[0m\n",
      "\u001b[31m2018-08-06 19:32:25.271007: E tensorflow/core/platform/s3/aws_logging.cc:60] No response body. Response code: 404\u001b[0m\n",
      "\u001b[31m2018-08-06 19:32:25.271028: W tensorflow/core/platform/s3/aws_logging.cc:57] If the signature check failed. This could be because of a time skew. Attempting to adjust the signer.\u001b[0m\n",
      "\u001b[31m2018-08-06 19:32:25.271139: I tensorflow/core/platform/s3/aws_logging.cc:54] Connection has been released. Continuing.\u001b[0m\n",
      "\u001b[31m2018-08-06 19:32:25.280533: I tensorflow/core/platform/s3/aws_logging.cc:54] Connection has been released. Continuing.\u001b[0m\n",
      "\u001b[31m2018-08-06 19:32:25.286474: E tensorflow/core/platform/s3/aws_logging.cc:60] No response body. Response code: 404\u001b[0m\n",
      "\u001b[31m2018-08-06 19:32:25.286527: W tensorflow/core/platform/s3/aws_logging.cc:57] If the signature check failed. This could be because of a time skew. Attempting to adjust the signer.\u001b[0m\n",
      "\u001b[31m2018-08-06 19:32:25.286643: I tensorflow/core/platform/s3/aws_logging.cc:54] Connection has been released. Continuing.\u001b[0m\n",
      "\u001b[31m2018-08-06 19:32:25.298293: I tensorflow/core/platform/s3/aws_logging.cc:54] Connection has been released. Continuing.\u001b[0m\n",
      "\u001b[31m2018-08-06 19:32:25.307571: I tensorflow/core/platform/s3/aws_logging.cc:54] Deleting file: /tmp/s3_filesystem_XXXXXX20180806T1932251533583945298\u001b[0m\n",
      "\u001b[31m2018-08-06 19:32:25,307 INFO - tensorflow - Assets added to graph.\u001b[0m\n",
      "\u001b[31m2018-08-06 19:32:25,307 INFO - tensorflow - No assets to write.\u001b[0m\n",
      "\u001b[31m2018-08-06 19:32:25.307974: I tensorflow/core/platform/s3/aws_logging.cc:54] Connection has been released. Continuing.\u001b[0m\n",
      "\u001b[31m2018-08-06 19:32:25.316648: E tensorflow/core/platform/s3/aws_logging.cc:60] No response body. Response code: 404\u001b[0m\n",
      "\u001b[31m2018-08-06 19:32:25.316713: W tensorflow/core/platform/s3/aws_logging.cc:57] If the signature check failed. This could be because of a time skew. Attempting to adjust the signer.\u001b[0m\n",
      "\u001b[31m2018-08-06 19:32:25.316814: I tensorflow/core/platform/s3/aws_logging.cc:54] Connection has been released. Continuing.\u001b[0m\n",
      "\u001b[31m2018-08-06 19:32:25.327703: I tensorflow/core/platform/s3/aws_logging.cc:54] Connection has been released. Continuing.\u001b[0m\n",
      "\u001b[31m2018-08-06 19:32:25.333738: E tensorflow/core/platform/s3/aws_logging.cc:60] No response body. Response code: 404\u001b[0m\n",
      "\u001b[31m2018-08-06 19:32:25.333802: W tensorflow/core/platform/s3/aws_logging.cc:57] If the signature check failed. This could be because of a time skew. Attempting to adjust the signer.\u001b[0m\n",
      "\u001b[31m2018-08-06 19:32:25.334060: I tensorflow/core/platform/s3/aws_logging.cc:54] Connection has been released. Continuing.\u001b[0m\n",
      "\u001b[31m2018-08-06 19:32:25.342521: I tensorflow/core/platform/s3/aws_logging.cc:54] Connection has been released. Continuing.\u001b[0m\n",
      "\u001b[31m2018-08-06 19:32:25.350954: E tensorflow/core/platform/s3/aws_logging.cc:60] No response body. Response code: 404\u001b[0m\n",
      "\u001b[31m2018-08-06 19:32:25.351005: W tensorflow/core/platform/s3/aws_logging.cc:57] If the signature check failed. This could be because of a time skew. Attempting to adjust the signer.\u001b[0m\n",
      "\u001b[31m2018-08-06 19:32:25.351169: I tensorflow/core/platform/s3/aws_logging.cc:54] Connection has been released. Continuing.\u001b[0m\n",
      "\u001b[31m2018-08-06 19:32:25.361745: I tensorflow/core/platform/s3/aws_logging.cc:54] Connection has been released. Continuing.\u001b[0m\n",
      "\u001b[31m2018-08-06 19:32:25.374225: I tensorflow/core/platform/s3/aws_logging.cc:54] Deleting file: /tmp/s3_filesystem_XXXXXX20180806T1932251533583945361\u001b[0m\n",
      "\u001b[31m2018-08-06 19:32:25.395784: I tensorflow/core/platform/s3/aws_logging.cc:54] Connection has been released. Continuing.\u001b[0m\n",
      "\u001b[31m2018-08-06 19:32:25.404782: I tensorflow/core/platform/s3/aws_logging.cc:54] Deleting file: /tmp/s3_filesystem_XXXXXX20180806T1932251533583945395\u001b[0m\n",
      "\u001b[31m2018-08-06 19:32:25.416632: I tensorflow/core/platform/s3/aws_logging.cc:54] Connection has been released. Continuing.\u001b[0m\n",
      "\u001b[31m2018-08-06 19:32:26.041963: I tensorflow/core/platform/s3/aws_logging.cc:54] Deleting file: /tmp/s3_filesystem_XXXXXX20180806T1932251533583945404\u001b[0m\n",
      "\u001b[31m2018-08-06 19:32:26.044117: I tensorflow/core/platform/s3/aws_logging.cc:54] Connection has been released. Continuing.\u001b[0m\n",
      "\u001b[31m2018-08-06 19:32:26.058075: I tensorflow/core/platform/s3/aws_logging.cc:54] Connection has been released. Continuing.\u001b[0m\n",
      "\u001b[31m2018-08-06 19:32:26.503714: I tensorflow/core/platform/s3/aws_logging.cc:54] Connection has been released. Continuing.\u001b[0m\n",
      "\u001b[31m2018-08-06 19:32:26.511293: I tensorflow/core/platform/s3/aws_logging.cc:54] Connection has been released. Continuing.\u001b[0m\n",
      "\u001b[31m2018-08-06 19:32:26.529873: I tensorflow/core/platform/s3/aws_logging.cc:54] Deleting file: /tmp/s3_filesystem_XXXXXX20180806T1932261533583946511\u001b[0m\n",
      "\u001b[31m2018-08-06 19:32:26.530059: I tensorflow/core/platform/s3/aws_logging.cc:54] Connection has been released. Continuing.\u001b[0m\n",
      "\u001b[31m2018-08-06 19:32:26.542794: I tensorflow/core/platform/s3/aws_logging.cc:54] Connection has been released. Continuing.\u001b[0m\n",
      "\u001b[31m2018-08-06 19:32:26.590693: I tensorflow/core/platform/s3/aws_logging.cc:54] Connection has been released. Continuing.\u001b[0m\n"
     ]
    },
    {
     "name": "stdout",
     "output_type": "stream",
     "text": [
      "\u001b[31m2018-08-06 19:32:26.600164: I tensorflow/core/platform/s3/aws_logging.cc:54] Connection has been released. Continuing.\u001b[0m\n",
      "\u001b[31m2018-08-06 19:32:26.609398: I tensorflow/core/platform/s3/aws_logging.cc:54] Deleting file: /tmp/s3_filesystem_XXXXXX20180806T1932261533583946600\u001b[0m\n",
      "\u001b[31m2018-08-06 19:32:26.609595: I tensorflow/core/platform/s3/aws_logging.cc:54] Connection has been released. Continuing.\u001b[0m\n",
      "\u001b[31m2018-08-06 19:32:26.617142: I tensorflow/core/platform/s3/aws_logging.cc:54] Connection has been released. Continuing.\u001b[0m\n",
      "\u001b[31m2018-08-06 19:32:26.626243: I tensorflow/core/platform/s3/aws_logging.cc:54] Connection has been released. Continuing.\u001b[0m\n",
      "\u001b[31m2018-08-06 19:32:26.636599: I tensorflow/core/platform/s3/aws_logging.cc:54] Connection has been released. Continuing.\u001b[0m\n",
      "\u001b[31m2018-08-06 19:32:26.644933: I tensorflow/core/platform/s3/aws_logging.cc:54] Connection has been released. Continuing.\u001b[0m\n",
      "\u001b[31m2018-08-06 19:32:26.656939: I tensorflow/core/platform/s3/aws_logging.cc:54] Connection has been released. Continuing.\u001b[0m\n",
      "\u001b[31m2018-08-06 19:32:26.669843: I tensorflow/core/platform/s3/aws_logging.cc:54] Connection has been released. Continuing.\u001b[0m\n",
      "\u001b[31m2018-08-06 19:32:27.028849: I tensorflow/core/platform/s3/aws_logging.cc:54] Connection has been released. Continuing.\u001b[0m\n",
      "\u001b[31m2018-08-06 19:32:27.038490: I tensorflow/core/platform/s3/aws_logging.cc:54] Connection has been released. Continuing.\u001b[0m\n",
      "\u001b[31m2018-08-06 19:32:27.098035: I tensorflow/core/platform/s3/aws_logging.cc:54] Deleting file: /tmp/s3_filesystem_XXXXXX20180806T1932271533583947038\u001b[0m\n",
      "\u001b[31m2018-08-06 19:32:27.098344: I tensorflow/core/platform/s3/aws_logging.cc:54] Connection has been released. Continuing.\u001b[0m\n",
      "\u001b[31m2018-08-06 19:32:27.107318: I tensorflow/core/platform/s3/aws_logging.cc:54] Connection has been released. Continuing.\u001b[0m\n",
      "\u001b[31m2018-08-06 19:32:27.122951: I tensorflow/core/platform/s3/aws_logging.cc:54] Connection has been released. Continuing.\u001b[0m\n",
      "\u001b[31m2018-08-06 19:32:27.202340: I tensorflow/core/platform/s3/aws_logging.cc:54] Connection has been released. Continuing.\u001b[0m\n",
      "\u001b[31m2018-08-06 19:32:27.209017: E tensorflow/core/platform/s3/aws_logging.cc:60] No response body. Response code: 404\u001b[0m\n",
      "\u001b[31m2018-08-06 19:32:27.209071: W tensorflow/core/platform/s3/aws_logging.cc:57] If the signature check failed. This could be because of a time skew. Attempting to adjust the signer.\u001b[0m\n",
      "\u001b[31m2018-08-06 19:32:27.209324: I tensorflow/core/platform/s3/aws_logging.cc:54] Connection has been released. Continuing.\u001b[0m\n",
      "\u001b[31m2018-08-06 19:32:27.224109: I tensorflow/core/platform/s3/aws_logging.cc:54] Connection has been released. Continuing.\u001b[0m\n",
      "\u001b[31m2018-08-06 19:32:27.264378: I tensorflow/core/platform/s3/aws_logging.cc:54] Deleting file: /tmp/s3_filesystem_XXXXXX20180806T1932271533583947223\u001b[0m\n",
      "\u001b[31m2018-08-06 19:32:27,264 INFO - tensorflow - SavedModel written to: s3://sagemaker-us-west-2-500842391574/sagemaker-tensorflow-2018-08-06-19-28-38-601/checkpoints/export/Servo/temp-1533583944/saved_model.pb\u001b[0m\n",
      "\u001b[31m2018-08-06 19:32:27.264858: I tensorflow/core/platform/s3/aws_logging.cc:54] Connection has been released. Continuing.\u001b[0m\n",
      "\u001b[31m2018-08-06 19:32:27.270535: E tensorflow/core/platform/s3/aws_logging.cc:60] No response body. Response code: 404\u001b[0m\n",
      "\u001b[31m2018-08-06 19:32:27.270562: W tensorflow/core/platform/s3/aws_logging.cc:57] If the signature check failed. This could be because of a time skew. Attempting to adjust the signer.\u001b[0m\n",
      "\u001b[31m2018-08-06 19:32:27.270669: I tensorflow/core/platform/s3/aws_logging.cc:54] Connection has been released. Continuing.\u001b[0m\n",
      "\u001b[31m2018-08-06 19:32:27.280919: I tensorflow/core/platform/s3/aws_logging.cc:54] Connection has been released. Continuing.\u001b[0m\n",
      "\u001b[31m2018-08-06 19:32:27.296495: I tensorflow/core/platform/s3/aws_logging.cc:54] Connection has been released. Continuing.\u001b[0m\n",
      "\u001b[31m2018-08-06 19:32:27.320124: I tensorflow/core/platform/s3/aws_logging.cc:54] Connection has been released. Continuing.\u001b[0m\n",
      "\u001b[31m2018-08-06 19:32:27.330958: I tensorflow/core/platform/s3/aws_logging.cc:54] Connection has been released. Continuing.\u001b[0m\n",
      "\u001b[31m2018-08-06 19:32:27.357584: I tensorflow/core/platform/s3/aws_logging.cc:54] Connection has been released. Continuing.\u001b[0m\n",
      "\u001b[31m2018-08-06 19:32:27.366316: I tensorflow/core/platform/s3/aws_logging.cc:54] Connection has been released. Continuing.\u001b[0m\n",
      "\u001b[31m2018-08-06 19:32:27.382850: I tensorflow/core/platform/s3/aws_logging.cc:54] Connection has been released. Continuing.\u001b[0m\n",
      "\u001b[31m2018-08-06 19:32:27.394586: I tensorflow/core/platform/s3/aws_logging.cc:54] Connection has been released. Continuing.\u001b[0m\n",
      "\u001b[31m2018-08-06 19:32:27.835310: I tensorflow/core/platform/s3/aws_logging.cc:54] Connection has been released. Continuing.\u001b[0m\n",
      "\u001b[31m2018-08-06 19:32:27.845165: I tensorflow/core/platform/s3/aws_logging.cc:54] Connection has been released. Continuing.\u001b[0m\n",
      "\u001b[31m2018-08-06 19:32:27.892137: I tensorflow/core/platform/s3/aws_logging.cc:54] Connection has been released. Continuing.\u001b[0m\n",
      "\u001b[31m2018-08-06 19:32:27.902845: I tensorflow/core/platform/s3/aws_logging.cc:54] Connection has been released. Continuing.\u001b[0m\n",
      "\u001b[31m2018-08-06 19:32:27.910584: E tensorflow/core/platform/s3/aws_logging.cc:60] No response body. Response code: 404\u001b[0m\n",
      "\u001b[31m2018-08-06 19:32:27.910628: W tensorflow/core/platform/s3/aws_logging.cc:57] If the signature check failed. This could be because of a time skew. Attempting to adjust the signer.\u001b[0m\n",
      "\u001b[31m2018-08-06 19:32:27.910745: I tensorflow/core/platform/s3/aws_logging.cc:54] Connection has been released. Continuing.\u001b[0m\n",
      "\u001b[31m2018-08-06 19:32:27.920662: I tensorflow/core/platform/s3/aws_logging.cc:54] Connection has been released. Continuing.\u001b[0m\n",
      "\u001b[31m2018-08-06 19:32:27.926583: E tensorflow/core/platform/s3/aws_logging.cc:60] No response body. Response code: 404\u001b[0m\n",
      "\u001b[31m2018-08-06 19:32:27.926614: W tensorflow/core/platform/s3/aws_logging.cc:57] If the signature check failed. This could be because of a time skew. Attempting to adjust the signer.\u001b[0m\n",
      "\u001b[31m2018-08-06 19:32:27.926729: I tensorflow/core/platform/s3/aws_logging.cc:54] Connection has been released. Continuing.\u001b[0m\n",
      "\u001b[31m2018-08-06 19:32:27.937317: I tensorflow/core/platform/s3/aws_logging.cc:54] Connection has been released. Continuing.\u001b[0m\n",
      "\u001b[31m2018-08-06 19:32:27,951 INFO - botocore.vendored.requests.packages.urllib3.connectionpool - Starting new HTTPS connection (1): sagemaker-us-west-2-500842391574.s3.amazonaws.com\u001b[0m\n",
      "\u001b[31m2018-08-06 19:32:28,007 INFO - botocore.vendored.requests.packages.urllib3.connectionpool - Starting new HTTPS connection (1): sagemaker-us-west-2-500842391574.s3.us-west-2.amazonaws.com\u001b[0m\n",
      "\u001b[31m2018-08-06 19:32:28,095 INFO - tf_container - Downloaded saved model at /opt/ml/model/export/Servo/1533583944/saved_model.pb\u001b[0m\n",
      "\u001b[31m2018-08-06 19:32:28,110 INFO - botocore.vendored.requests.packages.urllib3.connectionpool - Starting new HTTPS connection (2): sagemaker-us-west-2-500842391574.s3.us-west-2.amazonaws.com\u001b[0m\n",
      "\u001b[32m2018-08-06 19:32:37,695 INFO - tf_container - master algo-1 is down, stopping parameter server\u001b[0m\n",
      "\n",
      "Billable seconds: 313\n"
     ]
    }
   ],
   "source": [
    "from sagemaker.tensorflow import TensorFlow\n",
    "\n",
    "mnist_estimator = TensorFlow(entry_point='mnist.py',\n",
    "                             role=role,\n",
    "                             training_steps=1000, \n",
    "                             evaluation_steps=100,\n",
    "                             train_instance_count=2,\n",
    "                             train_instance_type='ml.c4.8xlarge')\n",
    "\n",
    "mnist_estimator.fit(inputs)"
   ]
  },
  {
   "cell_type": "markdown",
   "metadata": {},
   "source": [
    "The **```fit```** method will create a training job using two **ml.c4.8xlarge** instances. The output above will show the status of the training jobs on each instance during training and evaluation.\n",
    "\n",
    "When training is complete, the training job will generate a saved model for serving using a SageMaker endpoint."
   ]
  },
  {
   "cell_type": "markdown",
   "metadata": {
    "collapsed": true
   },
   "source": [
    "\n",
    "## Host\n",
    "\n",
    "\n",
    "### Deploy the trained model to prepare for predictions\n",
    "\n",
    "The deploy() method creates a SageMaker endpoint which serves prediction requests in real-time."
   ]
  },
  {
   "cell_type": "code",
   "execution_count": 9,
   "metadata": {},
   "outputs": [
    {
     "name": "stderr",
     "output_type": "stream",
     "text": [
      "INFO:sagemaker:Creating model with name: sagemaker-tensorflow-2018-08-06-19-28-38-601\n",
      "INFO:sagemaker:Creating endpoint with name sagemaker-tensorflow-2018-08-06-19-28-38-601\n"
     ]
    },
    {
     "name": "stdout",
     "output_type": "stream",
     "text": [
      "--------------------------------------------------------------!"
     ]
    }
   ],
   "source": [
    "mnist_predictor = mnist_estimator.deploy(initial_instance_count=1,\n",
    "                                             instance_type='ml.m4.xlarge')"
   ]
  },
  {
   "cell_type": "markdown",
   "metadata": {},
   "source": [
    "\n",
    "## Predict\n",
    "\n",
    "### Invoking the endpoint\n",
    "\n",
    "Now we will pass some of the test images to the model endpoint for inference."
   ]
  },
  {
   "cell_type": "code",
   "execution_count": 10,
   "metadata": {
    "scrolled": false
   },
   "outputs": [
    {
     "name": "stdout",
     "output_type": "stream",
     "text": [
      "Extracting /tmp/data/train-images-idx3-ubyte.gz\n"
     ]
    },
    {
     "name": "stderr",
     "output_type": "stream",
     "text": [
      "WARNING:tensorflow:From /home/ec2-user/anaconda3/envs/tensorflow_p36/lib/python3.6/site-packages/tensorflow/contrib/learn/python/learn/datasets/mnist.py:110: dense_to_one_hot (from tensorflow.contrib.learn.python.learn.datasets.mnist) is deprecated and will be removed in a future version.\n",
      "Instructions for updating:\n",
      "Please use tf.one_hot on tensors.\n"
     ]
    },
    {
     "name": "stdout",
     "output_type": "stream",
     "text": [
      "Extracting /tmp/data/train-labels-idx1-ubyte.gz\n",
      "Extracting /tmp/data/t10k-images-idx3-ubyte.gz\n",
      "Extracting /tmp/data/t10k-labels-idx1-ubyte.gz\n"
     ]
    },
    {
     "data": {
      "image/png": "[encoded data removed]",
      "text/plain": [
       "<Figure size 432x288 with 1 Axes>"
      ]
     },
     "metadata": {},
     "output_type": "display_data"
    },
    {
     "name": "stdout",
     "output_type": "stream",
     "text": [
      "Label is: 7\n",
      "Prediction is: 7\n",
      "_________________________________\n"
     ]
    },
    {
     "data": {
      "image/png": "[encoded data removed]",
      "text/plain": [
       "<Figure size 432x288 with 1 Axes>"
      ]
     },
     "metadata": {},
     "output_type": "display_data"
    },
    {
     "name": "stdout",
     "output_type": "stream",
     "text": [
      "Label is: 2\n",
      "Prediction is: 2\n",
      "_________________________________\n"
     ]
    },
    {
     "data": {
      "image/png": "[encoded data removed]",
      "text/plain": [
       "<Figure size 432x288 with 1 Axes>"
      ]
     },
     "metadata": {},
     "output_type": "display_data"
    },
    {
     "name": "stdout",
     "output_type": "stream",
     "text": [
      "Label is: 1\n",
      "Prediction is: 1\n",
      "_________________________________\n"
     ]
    },
    {
     "data": {
      "image/png": "[encoded data removed]",
      "text/plain": [
       "<Figure size 432x288 with 1 Axes>"
      ]
     },
     "metadata": {},
     "output_type": "display_data"
    },
    {
     "name": "stdout",
     "output_type": "stream",
     "text": [
      "Label is: 0\n",
      "Prediction is: 0\n",
      "_________________________________\n"
     ]
    },
    {
     "data": {
      "image/png": "[encoded data removed]",
      "text/plain": [
       "<Figure size 432x288 with 1 Axes>"
      ]
     },
     "metadata": {},
     "output_type": "display_data"
    },
    {
     "name": "stdout",
     "output_type": "stream",
     "text": [
      "Label is: 4\n",
      "Prediction is: 4\n",
      "_________________________________\n"
     ]
    },
    {
     "data": {
      "image/png": "[encoded data removed]",
      "text/plain": [
       "<Figure size 432x288 with 1 Axes>"
      ]
     },
     "metadata": {},
     "output_type": "display_data"
    },
    {
     "name": "stdout",
     "output_type": "stream",
     "text": [
      "Label is: 1\n",
      "Prediction is: 1\n",
      "_________________________________\n"
     ]
    },
    {
     "data": {
      "image/png": "[encoded data removed]",
      "text/plain": [
       "<Figure size 432x288 with 1 Axes>"
      ]
     },
     "metadata": {},
     "output_type": "display_data"
    },
    {
     "name": "stdout",
     "output_type": "stream",
     "text": [
      "Label is: 4\n",
      "Prediction is: 4\n",
      "_________________________________\n"
     ]
    },
    {
     "data": {
      "image/png": "[encoded data removed]",
      "text/plain": [
       "<Figure size 432x288 with 1 Axes>"
      ]
     },
     "metadata": {},
     "output_type": "display_data"
    },
    {
     "name": "stdout",
     "output_type": "stream",
     "text": [
      "Label is: 9\n",
      "Prediction is: 9\n",
      "_________________________________\n"
     ]
    },
    {
     "data": {
      "image/png": "[encoded data removed]",
      "text/plain": [
       "<Figure size 432x288 with 1 Axes>"
      ]
     },
     "metadata": {},
     "output_type": "display_data"
    },
    {
     "name": "stdout",
     "output_type": "stream",
     "text": [
      "Label is: 5\n",
      "Prediction is: 5\n",
      "_________________________________\n"
     ]
    },
    {
     "data": {
      "image/png": "[encoded data removed]",
      "text/plain": [
       "<Figure size 432x288 with 1 Axes>"
      ]
     },
     "metadata": {},
     "output_type": "display_data"
    },
    {
     "name": "stdout",
     "output_type": "stream",
     "text": [
      "Label is: 9\n",
      "Prediction is: 9\n",
      "_________________________________\n"
     ]
    }
   ],
   "source": [
    "from tensorflow.examples.tutorials.mnist import input_data\n",
    "\n",
    "mnist = input_data.read_data_sets(\"/tmp/data/\", one_hot=True)\n",
    "\n",
    "for i in range(10):\n",
    "    data = mnist.test.images[i].tolist()\n",
    "    tensor_proto = tf.make_tensor_proto(values=np.asarray(data), shape=[1, len(data)], dtype=tf.float32)\n",
    "    predict_response = mnist_predictor.predict(tensor_proto)\n",
    "    \n",
    "    image = mnist.test.images[i]\n",
    "    image = np.array(image, dtype='float')\n",
    "    plt.imshow(image.reshape(28, 28))\n",
    "    plt.show()\n",
    "    label = np.argmax(mnist.test.labels[i])\n",
    "    print(\"Label is: {}\".format(label))\n",
    "    prediction = predict_response['outputs']['classes']['int64_val'][0]\n",
    "    print(\"Prediction is: {}\".format(prediction))\n",
    "    print(\"_________________________________\")"
   ]
  },
  {
   "cell_type": "markdown",
   "metadata": {},
   "source": [
    "# Deleting the endpoint\n",
    "When you are done with the notebook, delete the endpoint to not incur unneccessary charges by running the following cell."
   ]
  },
  {
   "cell_type": "code",
   "execution_count": null,
   "metadata": {},
   "outputs": [],
   "source": [
    "sagemaker.Session().delete_endpoint(mnist_predictor.endpoint)"
   ]
  }
 ],
 "metadata": {
  "kernelspec": {
   "display_name": "conda_tensorflow_p36",
   "language": "python",
   "name": "conda_tensorflow_p36"
  },
  "language_info": {
   "codemirror_mode": {
    "name": "ipython",
    "version": 3
   },
   "file_extension": ".py",
   "mimetype": "text/x-python",
   "name": "python",
   "nbconvert_exporter": "python",
   "pygments_lexer": "ipython3",
   "version": "3.6.4"
  },
  "notice": "Copyright 2017 Amazon.com, Inc. or its affiliates. All Rights Reserved.  Licensed under the Apache License, Version 2.0 (the \"License\"). You may not use this file except in compliance with the License. A copy of the License is located at http://aws.amazon.com/apache2.0/ or in the \"license\" file accompanying this file. This file is distributed on an \"AS IS\" BASIS, WITHOUT WARRANTIES OR CONDITIONS OF ANY KIND, either express or implied. See the License for the specific language governing permissions and limitations under the License."
 },
 "nbformat": 4,
 "nbformat_minor": 2
}
