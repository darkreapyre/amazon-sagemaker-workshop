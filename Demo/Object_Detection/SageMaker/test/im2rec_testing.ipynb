{
 "cells": [
  {
   "cell_type": "markdown",
   "metadata": {},
   "source": [
    "# Options for building `.lst` files for RecordIO\n",
    "## Download Data"
   ]
  },
  {
   "cell_type": "code",
   "execution_count": null,
   "metadata": {},
   "outputs": [],
   "source": [
    "# Download the dataset\n",
    "!wget -P /tmp https://s3.amazonaws.com/udacity-sdc/Vehicle_Tracking/vehicles.zip\n",
    "!wget -P /tmp https://s3.amazonaws.com/udacity-sdc/Vehicle_Tracking/non-vehicles.zip\n",
    "\n",
    "# Extract the data.\n",
    "!unzip -q /tmp/vehicles.zip -d /tmp/\n",
    "!unzip -q /tmp/non-vehicles.zip -d /tmp/"
   ]
  },
  {
   "cell_type": "markdown",
   "metadata": {},
   "source": [
    "```\n",
    "def data_load():\n",
    "    basedir = '/tmp/vehicles/'\n",
    "    image_types = os.listdir(basedir)\n",
    "    cars = []\n",
    "    for imtype in image_types:\n",
    "        cars.extend(glob.glob(basedir+imtype+'/*'))\n",
    "    print('Number of Vehicle Images found:', len(cars))\n",
    "    with open(\"cars.txt\", 'w') as f:\n",
    "        for fn in cars:\n",
    "            f.write(fn+'\\n')\n",
    "    \n",
    "    basedir = '/tmp/non-vehicles/'\n",
    "    image_types = os.listdir(basedir)\n",
    "    notcars = []\n",
    "    for imtype in image_types:\n",
    "        notcars.extend(glob.glob(basedir+imtype+'/*'))\n",
    "    print('Number of Non-Vehicle Images found:', len(notcars))\n",
    "    with open(\"notcars.txt\", 'w') as f:\n",
    "        for fn in notcars:\n",
    "            f.write(fn+'\\n')\n",
    "\n",
    "    return cars, notcars\n",
    "\n",
    "```"
   ]
  },
  {
   "cell_type": "markdown",
   "metadata": {},
   "source": [
    "## Option 1: Manualy separate training and testing set based on extracted files\n",
    "### Training Set"
   ]
  },
  {
   "cell_type": "code",
   "execution_count": 15,
   "metadata": {},
   "outputs": [
    {
     "data": {
      "text/plain": [
       "['GTI_Right',\n",
       " 'GTI_Left',\n",
       " '.DS_Store',\n",
       " 'GTI_MiddleClose',\n",
       " 'KITTI_extracted',\n",
       " 'GTI_Far']"
      ]
     },
     "execution_count": 15,
     "metadata": {},
     "output_type": "execute_result"
    }
   ],
   "source": [
    "import os\n",
    "basedir = '/tmp/vehicles/'\n",
    "image_types = os.listdir(basedir)\n",
    "image_types"
   ]
  },
  {
   "cell_type": "code",
   "execution_count": 19,
   "metadata": {},
   "outputs": [
    {
     "data": {
      "text/plain": [
       "['/tmp/vehicles/GTI_Right/image0154.png',\n",
       " '/tmp/vehicles/GTI_Right/image0489.png',\n",
       " '/tmp/vehicles/GTI_Right/image0126.png',\n",
       " '/tmp/vehicles/GTI_Right/image0926.png',\n",
       " '/tmp/vehicles/GTI_Right/image0301.png']"
      ]
     },
     "execution_count": 19,
     "metadata": {},
     "output_type": "execute_result"
    }
   ],
   "source": [
    "import glob\n",
    "cars = []\n",
    "for imtype in image_types:\n",
    "    cars.extend(glob.glob(basedir+imtype+'/*'))\n",
    "cars[:5]"
   ]
  },
  {
   "cell_type": "code",
   "execution_count": 20,
   "metadata": {},
   "outputs": [
    {
     "data": {
      "text/plain": [
       "['/tmp/vehicles/KITTI_extracted/35.png',\n",
       " '/tmp/vehicles/KITTI_extracted/446.png',\n",
       " '/tmp/vehicles/KITTI_extracted/2995.png',\n",
       " '/tmp/vehicles/KITTI_extracted/1810.png',\n",
       " '/tmp/vehicles/GTI_Right/image0817.png']"
      ]
     },
     "execution_count": 20,
     "metadata": {},
     "output_type": "execute_result"
    }
   ],
   "source": [
    "from random import shuffle\n",
    "shuffle(cars)\n",
    "cars[:5]"
   ]
  },
  {
   "cell_type": "code",
   "execution_count": 36,
   "metadata": {},
   "outputs": [],
   "source": [
    "from math import floor\n",
    "split = 0.8\n",
    "split_index = floor(len(cars) * split)\n",
    "cars_training = cars[:split_index]\n",
    "cars_testing = cars[split_index:]"
   ]
  },
  {
   "cell_type": "markdown",
   "metadata": {},
   "source": [
    "### Testing Set"
   ]
  },
  {
   "cell_type": "code",
   "execution_count": 45,
   "metadata": {},
   "outputs": [],
   "source": [
    "basedir = '/tmp/non-vehicles/'\n",
    "image_types = os.listdir(basedir)\n",
    "non_cars = []\n",
    "for imtype in image_types:\n",
    "    non_cars.extend(glob.glob(basedir+imtype+'/*'))\n",
    "shuffle(non_cars)\n",
    "split = 0.8\n",
    "split_index = floor(len(non_cars) * split)\n",
    "non_cars_training = non_cars[:split_index]\n",
    "non_cars_testing = non_cars[split_index:]"
   ]
  },
  {
   "cell_type": "markdown",
   "metadata": {},
   "source": [
    "### To be continued ...\n",
    "\n",
    "---\n",
    "## Option 2: Compile all images to numpy arrays for images and classes"
   ]
  },
  {
   "cell_type": "code",
   "execution_count": null,
   "metadata": {},
   "outputs": [],
   "source": []
  }
 ],
 "metadata": {
  "kernelspec": {
   "display_name": "conda_mxnet_p36",
   "language": "python",
   "name": "conda_mxnet_p36"
  },
  "language_info": {
   "codemirror_mode": {
    "name": "ipython",
    "version": 3
   },
   "file_extension": ".py",
   "mimetype": "text/x-python",
   "name": "python",
   "nbconvert_exporter": "python",
   "pygments_lexer": "ipython3",
   "version": "3.6.5"
  }
 },
 "nbformat": 4,
 "nbformat_minor": 2
}
